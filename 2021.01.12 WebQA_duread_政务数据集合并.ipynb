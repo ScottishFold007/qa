{
 "cells": [
  {
   "cell_type": "markdown",
   "metadata": {},
   "source": [
    "## WebQA数据集\n",
    "\n",
    "链接: https://pan.baidu.com/s/1pLXEYtd 密码: 6fbf\n",
    "\n",
    "文件列表：\n",
    "- WebQA.v1.0/readme.txt\n",
    "- WebQA.v1.0/me_test.ann.json （一个问题只配一段材料，材料中有答案）\n",
    "- WebQA.v1.0/me_test.ir.json （一个问题配多段材料，材料可能有也可能没有答案）\n",
    "- WebQA.v1.0/me_train.json （混合的训练语料）\n",
    "- WebQA.v1.0/me_validation.ann.json （一个问题只配一段材料，材料中有答案）\n",
    "- WebQA.v1.0/me_validation.ir.json （一个问题配多段材料，材料可能有也可能没有答案）\n",
    "\n",
    "test跟validation的区别是，理论上来说，validation的分布跟train的分布更加接近。一般而言，validation用来验证模型的精确度，test用来验证模型的迁移能力。ann与ir的区别是，因为ir给每个问题配置了多段材料，可以通过各段材料投票来得到更加可靠的答案；而ann则是一问一材料的形式，是真正考验阅读理解能力的测试集。\n",
    "\n",
    "整理后的数据格式如下，以me_train.json为例：\n",
    "- 1、如果用Python的json库读取后，得到一个字典me_train，字典的键是Q_TRN_010878这样的问题标号；\n",
    "\n",
    "- 2、通过me_train['Q_TRN_010878']获得单条记录，每条记录也是一个字典，字典下有两个键：question和evidences；\n",
    "\n",
    "- 3、me_train['Q_TRN_010878']['question']就可以获得问题的文本内容，如“勇敢的心霍笑林的父亲是谁出演的”；\n",
    "\n",
    "- 4、evidences是问题的材料和对应答案，也是一个字典，字典的键是Q_TRN_010878#06这样的标号；\n",
    "\n",
    "- 5、me_train['Q_TRN_010878']['evidences']['Q_TRN_010878#05']获得单条记录，也是一个字典，字典有两个键：evidence和answer；\n",
    "\n",
    "- 6、evidence为对应的材料，如“答：《勇敢的心》霍绍昌与华夫人的儿子杨志刚饰霍啸林简介男主角，霍家少爷，领衔主演寇振海饰霍绍昌简介霍啸林的父亲‘举人’，主演史可饰华夫人简介霍啸林和赵舒城的母亲，主演”，answer是一个答案列表（因为答案可能有多个），如[u'寇振海']，如果材料中并没有答案，那么答案是[u'no_answer']。"
   ]
  },
  {
   "cell_type": "code",
   "execution_count": 1,
   "metadata": {},
   "outputs": [],
   "source": [
    "import json\n",
    "import re\n",
    "import smart_open\n",
    "from tqdm import tqdm\n",
    "import hashlib\n",
    "import pandas as pd\n",
    "import numpy as np\n",
    "\n",
    "%matplotlib inline\n",
    "\n",
    "def extract_qa_data(filepath):\n",
    "    docids,questions,contexts,answers = [],[],[],[]\n",
    "    \n",
    "    with open(filepath, encoding=\"utf-8\") as f:\n",
    "            data_squad = json.load(f)\n",
    "            for k,v in data_squad.items():\n",
    "                docids.append(k)\n",
    "                questions.append(v['question'])\n",
    "                contexts.append([j['evidence'] for _,j in v['evidences'].items()][0])\n",
    "                answers.append([j['answer'][0] for _,j in v['evidences'].items()][0])\n",
    "    return docids,questions,contexts,answers\n",
    "\n",
    "def get_df(fn):\n",
    "    rows = []\n",
    "    \n",
    "    with  smart_open.open(fn, 'r',encoding = 'utf-8') as f:\n",
    "        for line in tqdm(f):\n",
    "            d = json.loads(line)\n",
    "            question_id = 'dureader_' + str(d['question_id'])\n",
    "            question = d['question']\n",
    "            \n",
    "            if len(d['answer_docs']) == 0 or len(d['fake_answers']) == 0 or d['answer_docs'][0] >= len(d['documents']):\n",
    "                #print('no answer doc!')\n",
    "                continue\n",
    "\n",
    "            doc = d['documents'][d['answer_docs'][0]]\n",
    "            context = doc['paragraphs'][doc['most_related_para']].replace(' ', '').replace('\\t', '')\n",
    "            answer = d['fake_answers'][0]\n",
    "            #docid = hashlib.md5(str(answer).encode(encoding='UTF-8')).hexdigest()\n",
    "            rows.append({\n",
    "                'docid':question_id ,\n",
    "                'context': context.replace(' ', '').replace('\\t', ''),\n",
    "                'question': question.replace(' ', '').replace('\\t', ''),\n",
    "                'answer': answer.replace(' ', '').replace('\\t', '')\n",
    "            })\n",
    "\n",
    "    return pd.DataFrame(rows)\n",
    "\n"
   ]
  },
  {
   "cell_type": "code",
   "execution_count": 70,
   "metadata": {},
   "outputs": [
    {
     "name": "stderr",
     "output_type": "stream",
     "text": [
      "5000it [00:01, 2561.48it/s]\n",
      "5000it [00:02, 2158.28it/s]\n",
      "136208it [01:01, 2205.30it/s]\n",
      "135366it [00:52, 2591.58it/s]\n"
     ]
    },
    {
     "data": {
      "text/html": [
       "<div>\n",
       "<style scoped>\n",
       "    .dataframe tbody tr th:only-of-type {\n",
       "        vertical-align: middle;\n",
       "    }\n",
       "\n",
       "    .dataframe tbody tr th {\n",
       "        vertical-align: top;\n",
       "    }\n",
       "\n",
       "    .dataframe thead th {\n",
       "        text-align: right;\n",
       "    }\n",
       "</style>\n",
       "<table border=\"1\" class=\"dataframe\">\n",
       "  <thead>\n",
       "    <tr style=\"text-align: right;\">\n",
       "      <th></th>\n",
       "      <th>docid</th>\n",
       "      <th>context</th>\n",
       "      <th>question</th>\n",
       "      <th>answer</th>\n",
       "    </tr>\n",
       "  </thead>\n",
       "  <tbody>\n",
       "    <tr>\n",
       "      <th>0</th>\n",
       "      <td>dureader_191572</td>\n",
       "      <td>手账，指用于记事的本子。</td>\n",
       "      <td>手账是什么</td>\n",
       "      <td>记事的本子。</td>\n",
       "    </tr>\n",
       "    <tr>\n",
       "      <th>1</th>\n",
       "      <td>dureader_191573</td>\n",
       "      <td>&lt;p&gt;用交叉验证的目的是为了得到可靠稳定的模型。在建立PCR或PLS模型时，一个很重要的因素...</td>\n",
       "      <td>交叉验证的作用</td>\n",
       "      <td>为了得到可靠稳定的模型。</td>\n",
       "    </tr>\n",
       "    <tr>\n",
       "      <th>2</th>\n",
       "      <td>dureader_186574</td>\n",
       "      <td>嗅觉失灵是鼻部的常见疾病，病发会严重影响患者的工作生活，给患者带来了很大的负面影响。那么，鼻...</td>\n",
       "      <td>嗅觉失灵的治疗方法</td>\n",
       "      <td>（1）药物治疗：药物治疗可配合原因治疗。对于非呼吸阻塞性嗅觉失灵，尚缺乏十分有效的药物，临床...</td>\n",
       "    </tr>\n",
       "    <tr>\n",
       "      <th>3</th>\n",
       "      <td>dureader_186575</td>\n",
       "      <td>用鲁大师，鲁大师有一个游戏模式。</td>\n",
       "      <td>win10游戏模式怎么打开</td>\n",
       "      <td>用鲁大师，鲁大师有一个游戏模式。</td>\n",
       "    </tr>\n",
       "    <tr>\n",
       "      <th>4</th>\n",
       "      <td>dureader_186576</td>\n",
       "      <td>点右键按”设置“，进入“对象捕捉”选项卡，如果不是进入的这个，点击上面的“对象捕捉”就可以进...</td>\n",
       "      <td>cad捕捉不到点一直跳来跳去</td>\n",
       "      <td>点右键按”设置“，进入“对象捕捉”选项卡，如果不是进入的这个，点击上面的“对象捕捉”就可以进...</td>\n",
       "    </tr>\n",
       "  </tbody>\n",
       "</table>\n",
       "</div>"
      ],
      "text/plain": [
       "             docid                                            context  \\\n",
       "0  dureader_191572                                       手账，指用于记事的本子。   \n",
       "1  dureader_191573  <p>用交叉验证的目的是为了得到可靠稳定的模型。在建立PCR或PLS模型时，一个很重要的因素...   \n",
       "2  dureader_186574  嗅觉失灵是鼻部的常见疾病，病发会严重影响患者的工作生活，给患者带来了很大的负面影响。那么，鼻...   \n",
       "3  dureader_186575                                   用鲁大师，鲁大师有一个游戏模式。   \n",
       "4  dureader_186576  点右键按”设置“，进入“对象捕捉”选项卡，如果不是进入的这个，点击上面的“对象捕捉”就可以进...   \n",
       "\n",
       "         question                                             answer  \n",
       "0           手账是什么                                             记事的本子。  \n",
       "1         交叉验证的作用                                       为了得到可靠稳定的模型。  \n",
       "2       嗅觉失灵的治疗方法  （1）药物治疗：药物治疗可配合原因治疗。对于非呼吸阻塞性嗅觉失灵，尚缺乏十分有效的药物，临床...  \n",
       "3   win10游戏模式怎么打开                                   用鲁大师，鲁大师有一个游戏模式。  \n",
       "4  cad捕捉不到点一直跳来跳去  点右键按”设置“，进入“对象捕捉”选项卡，如果不是进入的这个，点击上面的“对象捕捉”就可以进...  "
      ]
     },
     "execution_count": 70,
     "metadata": {},
     "output_type": "execute_result"
    }
   ],
   "source": [
    "duread = pd.concat([\n",
    "    get_df(r'E:\\dureader_preprocessed\\preprocessed\\devset\\zhidao.dev.json'),\n",
    "    get_df(r'E:\\dureader_preprocessed\\preprocessed\\devset\\search.dev.json'),\n",
    "    get_df(r'E:\\dureader_preprocessed\\preprocessed\\trainset\\search.train.json'),\n",
    "    get_df(r'E:\\dureader_preprocessed\\preprocessed\\trainset\\zhidao.train.json'),\n",
    "\n",
    "\n",
    "],\n",
    "    axis=0\n",
    ")\n",
    "\n",
    " \n",
    "duread.head()"
   ]
  },
  {
   "cell_type": "code",
   "execution_count": 71,
   "metadata": {},
   "outputs": [
    {
     "name": "stdout",
     "output_type": "stream",
     "text": [
      "<class 'pandas.core.frame.DataFrame'>\n",
      "Int64Index: 267812 entries, 0 to 129712\n",
      "Data columns (total 4 columns):\n",
      "docid       267812 non-null object\n",
      "context     267812 non-null object\n",
      "question    267812 non-null object\n",
      "answer      267812 non-null object\n",
      "dtypes: object(4)\n",
      "memory usage: 10.2+ MB\n"
     ]
    }
   ],
   "source": [
    "duread.info()"
   ]
  },
  {
   "cell_type": "code",
   "execution_count": 72,
   "metadata": {},
   "outputs": [],
   "source": [
    "duread.drop_duplicates(inplace = True)\n",
    "duread.dropna(inplace = True)\n"
   ]
  },
  {
   "cell_type": "code",
   "execution_count": 73,
   "metadata": {},
   "outputs": [
    {
     "name": "stdout",
     "output_type": "stream",
     "text": [
      "<class 'pandas.core.frame.DataFrame'>\n",
      "Int64Index: 267812 entries, 0 to 129712\n",
      "Data columns (total 4 columns):\n",
      "docid       267812 non-null object\n",
      "context     267812 non-null object\n",
      "question    267812 non-null object\n",
      "answer      267812 non-null object\n",
      "dtypes: object(4)\n",
      "memory usage: 10.2+ MB\n"
     ]
    }
   ],
   "source": [
    "duread.info()"
   ]
  },
  {
   "cell_type": "code",
   "execution_count": 74,
   "metadata": {},
   "outputs": [],
   "source": [
    "## 加载合并后的全部数据\n",
    "df_combined = pd.read_csv(r'2021.01.10Webqa和政务训练数据合集.csv')\n"
   ]
  },
  {
   "cell_type": "code",
   "execution_count": 75,
   "metadata": {},
   "outputs": [
    {
     "name": "stdout",
     "output_type": "stream",
     "text": [
      "<class 'pandas.core.frame.DataFrame'>\n",
      "Int64Index: 174453 entries, 0 to 174452\n",
      "Data columns (total 4 columns):\n",
      "docid       174453 non-null object\n",
      "context     174453 non-null object\n",
      "question    174453 non-null object\n",
      "answer      127059 non-null object\n",
      "dtypes: object(4)\n",
      "memory usage: 6.7+ MB\n"
     ]
    }
   ],
   "source": [
    "df_combined.drop_duplicates(inplace = True)\n",
    "#merge_df.dropna(inplace = True)\n",
    "df_combined.info()"
   ]
  },
  {
   "cell_type": "code",
   "execution_count": 76,
   "metadata": {},
   "outputs": [],
   "source": [
    "df_merge = pd.concat([df_combined,duread])"
   ]
  },
  {
   "cell_type": "code",
   "execution_count": 77,
   "metadata": {},
   "outputs": [
    {
     "data": {
      "text/html": [
       "<div>\n",
       "<style scoped>\n",
       "    .dataframe tbody tr th:only-of-type {\n",
       "        vertical-align: middle;\n",
       "    }\n",
       "\n",
       "    .dataframe tbody tr th {\n",
       "        vertical-align: top;\n",
       "    }\n",
       "\n",
       "    .dataframe thead th {\n",
       "        text-align: right;\n",
       "    }\n",
       "</style>\n",
       "<table border=\"1\" class=\"dataframe\">\n",
       "  <thead>\n",
       "    <tr style=\"text-align: right;\">\n",
       "      <th></th>\n",
       "      <th>docid</th>\n",
       "      <th>context</th>\n",
       "      <th>question</th>\n",
       "      <th>answer</th>\n",
       "    </tr>\n",
       "  </thead>\n",
       "  <tbody>\n",
       "    <tr>\n",
       "      <th>0</th>\n",
       "      <td>Q_ANN_TST_001387</td>\n",
       "      <td>阿诺德·施瓦辛格，1947年7月30日生于奥地利，是美国好莱坞男演员、健美运动员、前美国加州...</td>\n",
       "      <td>好莱坞巨星阿诺施瓦辛格曾经是美国哪个州的州长?</td>\n",
       "      <td>加州</td>\n",
       "    </tr>\n",
       "    <tr>\n",
       "      <th>1</th>\n",
       "      <td>Q_ANN_TST_001672</td>\n",
       "      <td>纠正一楼的回答中国社会科学院没有院士只有学部委员我们常说的两院院士是指中国科学院和工程院的院...</td>\n",
       "      <td>我们平时说的两院院士是指中国工程院和哪个学术机构?</td>\n",
       "      <td>中国科学院</td>\n",
       "    </tr>\n",
       "    <tr>\n",
       "      <th>2</th>\n",
       "      <td>Q_ANN_TST_001926</td>\n",
       "      <td>格林兰岛是世界上最大的岛屿世界第一大岛——格陵兰岛，位于北美洲东北部，介于北冰洋和大西洋之间...</td>\n",
       "      <td>世界上最大的岛屿是哪个岛?</td>\n",
       "      <td>格陵兰岛</td>\n",
       "    </tr>\n",
       "    <tr>\n",
       "      <th>3</th>\n",
       "      <td>Q_ANN_TST_001394</td>\n",
       "      <td>最为出名的是，慈禧身边的红人（李莲英），就连红顶商人（胡雪岩）也求他为自己母亲赐过匾</td>\n",
       "      <td>清朝太后身边最著名的贴身太监叫什么?</td>\n",
       "      <td>李莲英</td>\n",
       "    </tr>\n",
       "    <tr>\n",
       "      <th>4</th>\n",
       "      <td>Q_ANN_TST_001663</td>\n",
       "      <td>911事件是指发生在2001年9月11日，恐怖分子胁持客机撞击美国世贸双子塔和五角大楼的事件...</td>\n",
       "      <td>美国遭受911恐怖袭击的地标性建筑叫什么?</td>\n",
       "      <td>世贸双塔</td>\n",
       "    </tr>\n",
       "  </tbody>\n",
       "</table>\n",
       "</div>"
      ],
      "text/plain": [
       "              docid                                            context  \\\n",
       "0  Q_ANN_TST_001387  阿诺德·施瓦辛格，1947年7月30日生于奥地利，是美国好莱坞男演员、健美运动员、前美国加州...   \n",
       "1  Q_ANN_TST_001672  纠正一楼的回答中国社会科学院没有院士只有学部委员我们常说的两院院士是指中国科学院和工程院的院...   \n",
       "2  Q_ANN_TST_001926  格林兰岛是世界上最大的岛屿世界第一大岛——格陵兰岛，位于北美洲东北部，介于北冰洋和大西洋之间...   \n",
       "3  Q_ANN_TST_001394         最为出名的是，慈禧身边的红人（李莲英），就连红顶商人（胡雪岩）也求他为自己母亲赐过匾   \n",
       "4  Q_ANN_TST_001663  911事件是指发生在2001年9月11日，恐怖分子胁持客机撞击美国世贸双子塔和五角大楼的事件...   \n",
       "\n",
       "                    question answer  \n",
       "0    好莱坞巨星阿诺施瓦辛格曾经是美国哪个州的州长?     加州  \n",
       "1  我们平时说的两院院士是指中国工程院和哪个学术机构?  中国科学院  \n",
       "2              世界上最大的岛屿是哪个岛?   格陵兰岛  \n",
       "3         清朝太后身边最著名的贴身太监叫什么?    李莲英  \n",
       "4      美国遭受911恐怖袭击的地标性建筑叫什么?   世贸双塔  "
      ]
     },
     "execution_count": 77,
     "metadata": {},
     "output_type": "execute_result"
    }
   ],
   "source": [
    "df_merge.head()"
   ]
  },
  {
   "cell_type": "code",
   "execution_count": 16,
   "metadata": {},
   "outputs": [],
   "source": [
    "import pandas as pd\n",
    "df_merge = pd.read_excel(r'2021.01.15 汽车主体评价问答数据集构造.xlsx','合集')"
   ]
  },
  {
   "cell_type": "code",
   "execution_count": 17,
   "metadata": {},
   "outputs": [
    {
     "data": {
      "text/html": [
       "<div>\n",
       "<style scoped>\n",
       "    .dataframe tbody tr th:only-of-type {\n",
       "        vertical-align: middle;\n",
       "    }\n",
       "\n",
       "    .dataframe tbody tr th {\n",
       "        vertical-align: top;\n",
       "    }\n",
       "\n",
       "    .dataframe thead th {\n",
       "        text-align: right;\n",
       "    }\n",
       "</style>\n",
       "<table border=\"1\" class=\"dataframe\">\n",
       "  <thead>\n",
       "    <tr style=\"text-align: right;\">\n",
       "      <th></th>\n",
       "      <th>docid</th>\n",
       "      <th>context</th>\n",
       "      <th>question</th>\n",
       "      <th>answer</th>\n",
       "    </tr>\n",
       "  </thead>\n",
       "  <tbody>\n",
       "    <tr>\n",
       "      <th>0</th>\n",
       "      <td>S30000</td>\n",
       "      <td>天籁公爵——加长版礼宾座驾，以公爵之礼遇，开启专属之享。</td>\n",
       "      <td>哪款车在评论中的评价是中性的？</td>\n",
       "      <td>天籁公爵</td>\n",
       "    </tr>\n",
       "    <tr>\n",
       "      <th>1</th>\n",
       "      <td>S30001</td>\n",
       "      <td>比众泰更早一步，江淮版兰博基尼，10万可带走</td>\n",
       "      <td>哪款车在评论中的评价是中性的？</td>\n",
       "      <td>众泰</td>\n",
       "    </tr>\n",
       "    <tr>\n",
       "      <th>2</th>\n",
       "      <td>S30001</td>\n",
       "      <td>比众泰更早一步，江淮版兰博基尼，10万可带走</td>\n",
       "      <td>哪款车在评论中的评价是中性的？</td>\n",
       "      <td>江淮</td>\n",
       "    </tr>\n",
       "    <tr>\n",
       "      <th>3</th>\n",
       "      <td>S30001</td>\n",
       "      <td>比众泰更早一步，江淮版兰博基尼，10万可带走</td>\n",
       "      <td>哪款车在评论中的评价是中性的？</td>\n",
       "      <td>兰博基尼</td>\n",
       "    </tr>\n",
       "    <tr>\n",
       "      <th>4</th>\n",
       "      <td>S30002</td>\n",
       "      <td>近日官方公布了全[汽车]新威朗的内饰图片，威朗内饰的布局、用料以及制作工艺都有着很高的水准。</td>\n",
       "      <td>哪款车在评论中的评价是正面的？</td>\n",
       "      <td>威朗</td>\n",
       "    </tr>\n",
       "  </tbody>\n",
       "</table>\n",
       "</div>"
      ],
      "text/plain": [
       "    docid                                         context         question  \\\n",
       "0  S30000                    天籁公爵——加长版礼宾座驾，以公爵之礼遇，开启专属之享。  哪款车在评论中的评价是中性的？   \n",
       "1  S30001                          比众泰更早一步，江淮版兰博基尼，10万可带走  哪款车在评论中的评价是中性的？   \n",
       "2  S30001                          比众泰更早一步，江淮版兰博基尼，10万可带走  哪款车在评论中的评价是中性的？   \n",
       "3  S30001                          比众泰更早一步，江淮版兰博基尼，10万可带走  哪款车在评论中的评价是中性的？   \n",
       "4  S30002  近日官方公布了全[汽车]新威朗的内饰图片，威朗内饰的布局、用料以及制作工艺都有着很高的水准。  哪款车在评论中的评价是正面的？   \n",
       "\n",
       "  answer  \n",
       "0   天籁公爵  \n",
       "1     众泰  \n",
       "2     江淮  \n",
       "3   兰博基尼  \n",
       "4     威朗  "
      ]
     },
     "execution_count": 17,
     "metadata": {},
     "output_type": "execute_result"
    }
   ],
   "source": [
    "df_merge.head()"
   ]
  },
  {
   "cell_type": "code",
   "execution_count": 18,
   "metadata": {},
   "outputs": [],
   "source": [
    "def answer_index(x):\n",
    "    return x.context.find(str(x.answer))\n",
    "\n",
    "\n",
    "\n",
    "df_merge[\"answer_index\"] = df_merge.apply(answer_index,axis=1)\n"
   ]
  },
  {
   "cell_type": "code",
   "execution_count": 19,
   "metadata": {},
   "outputs": [
    {
     "name": "stdout",
     "output_type": "stream",
     "text": [
      "<class 'pandas.core.frame.DataFrame'>\n",
      "RangeIndex: 10321 entries, 0 to 10320\n",
      "Data columns (total 5 columns):\n",
      "docid           10321 non-null object\n",
      "context         10321 non-null object\n",
      "question        10321 non-null object\n",
      "answer          10305 non-null object\n",
      "answer_index    10321 non-null int64\n",
      "dtypes: int64(1), object(4)\n",
      "memory usage: 403.3+ KB\n"
     ]
    }
   ],
   "source": [
    "df_merge.info()"
   ]
  },
  {
   "cell_type": "code",
   "execution_count": 20,
   "metadata": {},
   "outputs": [],
   "source": [
    "with open('null_docids.txt',encoding = 'utf-8') as f:\n",
    "    docids = [i.strip() for i in f.readlines()]\n",
    "    "
   ]
  },
  {
   "cell_type": "code",
   "execution_count": 21,
   "metadata": {},
   "outputs": [],
   "source": [
    "df_merge = df_merge.sample(frac = 1.0) #打乱样本"
   ]
  },
  {
   "cell_type": "code",
   "execution_count": 22,
   "metadata": {},
   "outputs": [
    {
     "name": "stdout",
     "output_type": "stream",
     "text": [
      "<class 'pandas.core.frame.DataFrame'>\n",
      "Int64Index: 10321 entries, 5671 to 9021\n",
      "Data columns (total 5 columns):\n",
      "docid           10321 non-null object\n",
      "context         10321 non-null object\n",
      "question        10321 non-null object\n",
      "answer          10305 non-null object\n",
      "answer_index    10321 non-null int64\n",
      "dtypes: int64(1), object(4)\n",
      "memory usage: 483.8+ KB\n"
     ]
    }
   ],
   "source": [
    "df_merge.loc[~(df_merge[\"docid\"].isin(docids)  )].info()"
   ]
  },
  {
   "cell_type": "code",
   "execution_count": 23,
   "metadata": {},
   "outputs": [],
   "source": [
    "df_merge  = df_merge.loc[~(df_merge[\"docid\"].isin(docids))]\n"
   ]
  },
  {
   "cell_type": "code",
   "execution_count": 24,
   "metadata": {},
   "outputs": [
    {
     "name": "stdout",
     "output_type": "stream",
     "text": [
      "<class 'pandas.core.frame.DataFrame'>\n",
      "Int64Index: 10321 entries, 5671 to 9021\n",
      "Data columns (total 5 columns):\n",
      "docid           10321 non-null object\n",
      "context         10321 non-null object\n",
      "question        10321 non-null object\n",
      "answer          10305 non-null object\n",
      "answer_index    10321 non-null int64\n",
      "dtypes: int64(1), object(4)\n",
      "memory usage: 483.8+ KB\n"
     ]
    }
   ],
   "source": [
    "df_merge.info()\n"
   ]
  },
  {
   "cell_type": "code",
   "execution_count": 25,
   "metadata": {},
   "outputs": [
    {
     "data": {
      "text/html": [
       "<div>\n",
       "<style scoped>\n",
       "    .dataframe tbody tr th:only-of-type {\n",
       "        vertical-align: middle;\n",
       "    }\n",
       "\n",
       "    .dataframe tbody tr th {\n",
       "        vertical-align: top;\n",
       "    }\n",
       "\n",
       "    .dataframe thead th {\n",
       "        text-align: right;\n",
       "    }\n",
       "</style>\n",
       "<table border=\"1\" class=\"dataframe\">\n",
       "  <thead>\n",
       "    <tr style=\"text-align: right;\">\n",
       "      <th></th>\n",
       "      <th>docid</th>\n",
       "      <th>context</th>\n",
       "      <th>question</th>\n",
       "      <th>answer</th>\n",
       "      <th>answer_index</th>\n",
       "    </tr>\n",
       "  </thead>\n",
       "  <tbody>\n",
       "    <tr>\n",
       "      <th>9029</th>\n",
       "      <td>S36655</td>\n",
       "      <td>9月20日，吉利汽车全新a+级新车帝豪gl将推向市场，这也是今年继博越、帝豪gs、远景suv...</td>\n",
       "      <td>哪款车在评论中的评价是中性的？</td>\n",
       "      <td>博越</td>\n",
       "      <td>33</td>\n",
       "    </tr>\n",
       "    <tr>\n",
       "      <th>4520</th>\n",
       "      <td>S33406</td>\n",
       "      <td>家用顶梁柱试驾2016款众泰z500旗舰型</td>\n",
       "      <td>哪款车在评论中的评价是中性的？</td>\n",
       "      <td>众泰z500</td>\n",
       "      <td>12</td>\n",
       "    </tr>\n",
       "    <tr>\n",
       "      <th>9212</th>\n",
       "      <td>S36763</td>\n",
       "      <td>活动地点：林百欣会展中心南广场c36-c41广汽丰田展位。</td>\n",
       "      <td>哪款车在评论中的评价是中性的？</td>\n",
       "      <td>广汽丰田</td>\n",
       "      <td>22</td>\n",
       "    </tr>\n",
       "    <tr>\n",
       "      <th>8629</th>\n",
       "      <td>S36409</td>\n",
       "      <td>7.玛莎拉蒂:改造工厂推出新车quattroporte;。</td>\n",
       "      <td>哪款车在评论中的评价是中性的？</td>\n",
       "      <td>玛莎拉蒂</td>\n",
       "      <td>2</td>\n",
       "    </tr>\n",
       "    <tr>\n",
       "      <th>1657</th>\n",
       "      <td>S31203</td>\n",
       "      <td>好不容易在8月再次夺得月销冠，随着新迈腾上市，以后帕萨特的日子不容易。</td>\n",
       "      <td>哪款车在评论中的评价是中性的？</td>\n",
       "      <td>迈腾</td>\n",
       "      <td>18</td>\n",
       "    </tr>\n",
       "    <tr>\n",
       "      <th>...</th>\n",
       "      <td>...</td>\n",
       "      <td>...</td>\n",
       "      <td>...</td>\n",
       "      <td>...</td>\n",
       "      <td>...</td>\n",
       "    </tr>\n",
       "    <tr>\n",
       "      <th>3314</th>\n",
       "      <td>S32457</td>\n",
       "      <td>2017款迈锐宝1.5t自动舒适版全款落地多少钱朋友们指点一下我们这里是聊城最近想订购车能优惠多少</td>\n",
       "      <td>哪款车在评论中的评价是中性的？</td>\n",
       "      <td>迈锐宝</td>\n",
       "      <td>5</td>\n",
       "    </tr>\n",
       "    <tr>\n",
       "      <th>6898</th>\n",
       "      <td>S35208</td>\n",
       "      <td>单拿其中雅力士的低、高配测试成绩来比对，我想大伙儿就明白了。</td>\n",
       "      <td>哪款车在评论中的评价是中性的？</td>\n",
       "      <td>雅力士</td>\n",
       "      <td>4</td>\n",
       "    </tr>\n",
       "    <tr>\n",
       "      <th>3272</th>\n",
       "      <td>S32423</td>\n",
       "      <td>?宝马上歌唱妹子想出名想疯了</td>\n",
       "      <td>哪款车在评论中的评价是中性的？</td>\n",
       "      <td>宝马</td>\n",
       "      <td>1</td>\n",
       "    </tr>\n",
       "    <tr>\n",
       "      <th>7311</th>\n",
       "      <td>S35519</td>\n",
       "      <td>东风日产京德店“金秋全关怀，安全伴你行“服务月开启啦！</td>\n",
       "      <td>哪款车在评论中的评价是中性的？</td>\n",
       "      <td>东风日产</td>\n",
       "      <td>0</td>\n",
       "    </tr>\n",
       "    <tr>\n",
       "      <th>9021</th>\n",
       "      <td>S36650</td>\n",
       "      <td>天籁雅阁和凯美瑞哪个车子好</td>\n",
       "      <td>哪款车在评论中的评价是中性的？</td>\n",
       "      <td>凯美瑞</td>\n",
       "      <td>5</td>\n",
       "    </tr>\n",
       "  </tbody>\n",
       "</table>\n",
       "<p>100 rows × 5 columns</p>\n",
       "</div>"
      ],
      "text/plain": [
       "       docid                                            context  \\\n",
       "9029  S36655  9月20日，吉利汽车全新a+级新车帝豪gl将推向市场，这也是今年继博越、帝豪gs、远景suv...   \n",
       "4520  S33406                              家用顶梁柱试驾2016款众泰z500旗舰型   \n",
       "9212  S36763                      活动地点：林百欣会展中心南广场c36-c41广汽丰田展位。   \n",
       "8629  S36409                      7.玛莎拉蒂:改造工厂推出新车quattroporte;。   \n",
       "1657  S31203                好不容易在8月再次夺得月销冠，随着新迈腾上市，以后帕萨特的日子不容易。   \n",
       "...      ...                                                ...   \n",
       "3314  S32457  2017款迈锐宝1.5t自动舒适版全款落地多少钱朋友们指点一下我们这里是聊城最近想订购车能优惠多少   \n",
       "6898  S35208                     单拿其中雅力士的低、高配测试成绩来比对，我想大伙儿就明白了。   \n",
       "3272  S32423                                     ?宝马上歌唱妹子想出名想疯了   \n",
       "7311  S35519                        东风日产京德店“金秋全关怀，安全伴你行“服务月开启啦！   \n",
       "9021  S36650                                      天籁雅阁和凯美瑞哪个车子好   \n",
       "\n",
       "             question  answer  answer_index  \n",
       "9029  哪款车在评论中的评价是中性的？      博越            33  \n",
       "4520  哪款车在评论中的评价是中性的？  众泰z500            12  \n",
       "9212  哪款车在评论中的评价是中性的？    广汽丰田            22  \n",
       "8629  哪款车在评论中的评价是中性的？    玛莎拉蒂             2  \n",
       "1657  哪款车在评论中的评价是中性的？      迈腾            18  \n",
       "...               ...     ...           ...  \n",
       "3314  哪款车在评论中的评价是中性的？     迈锐宝             5  \n",
       "6898  哪款车在评论中的评价是中性的？     雅力士             4  \n",
       "3272  哪款车在评论中的评价是中性的？      宝马             1  \n",
       "7311  哪款车在评论中的评价是中性的？    东风日产             0  \n",
       "9021  哪款车在评论中的评价是中性的？     凯美瑞             5  \n",
       "\n",
       "[100 rows x 5 columns]"
      ]
     },
     "execution_count": 25,
     "metadata": {},
     "output_type": "execute_result"
    }
   ],
   "source": [
    "df_merge.tail(100)"
   ]
  },
  {
   "cell_type": "code",
   "execution_count": 30,
   "metadata": {},
   "outputs": [],
   "source": [
    "from tqdm import tqdm\n",
    "    \n",
    "train_data = []\n",
    "\n",
    "def make_train_data(df):      \n",
    "    for index,row in tqdm(df.iterrows()):\n",
    "        main_d = dict()\n",
    "        context = row[\"context\"].lower().replace(' ', '').replace('\\t', '')\n",
    "        main_d[\"context\"] = context\n",
    "        qas=[]\n",
    "        inside_qas={}\n",
    "        inside_qas[\"id\"] = row [\"docid\"]\n",
    "        inside_qas[\"question\"]= row[\"question\"]\n",
    "        if row[\"answer\"] is not None:\n",
    "            \n",
    "            if isinstance(row[\"answer\"],float):\n",
    "                #print(row[\"answer\"])\n",
    "                inside_answer=[]\n",
    "                inside_qas[\"answers\"]=inside_answer\n",
    "                inside_qas[\"is_impossible\"]=True\n",
    "            else :\n",
    "                inside_answer=[{\"text\":str(row[\"answer\"]).lower(),\"answer_start\": row[\"answer_index\"]}]\n",
    "                inside_qas[\"answers\"]=inside_answer\n",
    "                inside_qas[\"is_impossible\"]=False\n",
    "            \n",
    "        elif row[\"answer\"] =='nan' or row[\"answer\"] =='' or row[\"answer_index\"] == -1:\n",
    "            inside_answer = []\n",
    "            inside_qas[\"answers\"]=inside_answer\n",
    "            inside_qas[\"is_impossible\"]=True\n",
    "            \n",
    "        qas.append(inside_qas)\n",
    "        main_d[\"qas\"]=qas\n",
    "        train_data.append({\"title\": \" \",\"paragraphs\": [main_d]})\n",
    "    return train_data\n",
    "          "
   ]
  },
  {
   "cell_type": "code",
   "execution_count": 31,
   "metadata": {},
   "outputs": [
    {
     "name": "stderr",
     "output_type": "stream",
     "text": [
      "10321it [00:01, 5420.70it/s]\n"
     ]
    }
   ],
   "source": [
    "train_data = make_train_data(df_merge)\n"
   ]
  },
  {
   "cell_type": "code",
   "execution_count": 33,
   "metadata": {},
   "outputs": [
    {
     "data": {
      "text/plain": [
       "{'title': ' ',\n",
       " 'paragraphs': [{'context': '罗孚和mg则辗转进来了中国，变成了荣威和名爵。',\n",
       "   'qas': [{'id': 'S31060',\n",
       "     'question': '哪款车在评论中的评价是中性的？',\n",
       "     'answers': [{'text': '名爵', 'answer_start': 20}],\n",
       "     'is_impossible': False}]}]}"
      ]
     },
     "execution_count": 33,
     "metadata": {},
     "output_type": "execute_result"
    }
   ],
   "source": [
    "train_data[246]"
   ]
  },
  {
   "cell_type": "code",
   "execution_count": 34,
   "metadata": {},
   "outputs": [
    {
     "data": {
      "text/plain": [
       "{'title': ' ',\n",
       " 'paragraphs': [{'context': '奥迪最新创意广告，这次主角是霸王龙......',\n",
       "   'qas': [{'id': 'S34173',\n",
       "     'question': '哪款车在评论中的评价是中性的？',\n",
       "     'answers': [{'text': '奥迪', 'answer_start': 0}],\n",
       "     'is_impossible': False}]}]}"
      ]
     },
     "execution_count": 34,
     "metadata": {},
     "output_type": "execute_result"
    }
   ],
   "source": [
    "train_data[9919]"
   ]
  },
  {
   "cell_type": "code",
   "execution_count": 35,
   "metadata": {},
   "outputs": [],
   "source": [
    "store_data = {'data':train_data}"
   ]
  },
  {
   "cell_type": "code",
   "execution_count": 36,
   "metadata": {},
   "outputs": [],
   "source": [
    "import json\n",
    "\n",
    "with open(r'CAR_train.json', 'w',encoding = 'utf-8') as outfile:\n",
    "    json.dump(store_data, outfile,ensure_ascii = False,indent=4)\n"
   ]
  },
  {
   "cell_type": "code",
   "execution_count": null,
   "metadata": {},
   "outputs": [],
   "source": []
  }
 ],
 "metadata": {
  "kernelspec": {
   "display_name": "Python 3",
   "language": "python",
   "name": "python3"
  },
  "language_info": {
   "codemirror_mode": {
    "name": "ipython",
    "version": 3
   },
   "file_extension": ".py",
   "mimetype": "text/x-python",
   "name": "python",
   "nbconvert_exporter": "python",
   "pygments_lexer": "ipython3",
   "version": "3.6.5"
  }
 },
 "nbformat": 4,
 "nbformat_minor": 4
}
