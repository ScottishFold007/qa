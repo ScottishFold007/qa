{
 "cells": [
  {
   "cell_type": "markdown",
   "metadata": {},
   "source": [
    "## 创建问答数据集"
   ]
  },
  {
   "cell_type": "code",
   "execution_count": 1,
   "metadata": {},
   "outputs": [],
   "source": [
    "import torch\n",
    "from transformers import BertForQuestionAnswering\n",
    "import numpy as np # linear algebra\n",
    "import pandas as pd # data processing, CSV file I/O (e.g. pd.read_csv)\n"
   ]
  },
  {
   "cell_type": "code",
   "execution_count": 2,
   "metadata": {},
   "outputs": [
    {
     "name": "stderr",
     "output_type": "stream",
     "text": [
      "b'Skipping line 134: expected 2 fields, saw 3\\nSkipping line 2130: expected 2 fields, saw 3\\nSkipping line 2877: expected 2 fields, saw 3\\nSkipping line 2955: expected 2 fields, saw 3\\nSkipping line 2974: expected 2 fields, saw 3\\nSkipping line 3038: expected 2 fields, saw 3\\nSkipping line 3052: expected 2 fields, saw 3\\nSkipping line 3053: expected 2 fields, saw 3\\nSkipping line 3080: expected 2 fields, saw 3\\nSkipping line 3086: expected 2 fields, saw 3\\nSkipping line 3094: expected 2 fields, saw 3\\nSkipping line 3115: expected 2 fields, saw 22\\nSkipping line 3180: expected 2 fields, saw 3\\nSkipping line 3189: expected 2 fields, saw 3\\nSkipping line 3191: expected 2 fields, saw 3\\nSkipping line 3197: expected 2 fields, saw 3\\nSkipping line 3203: expected 2 fields, saw 3\\nSkipping line 3209: expected 2 fields, saw 3\\nSkipping line 3215: expected 2 fields, saw 3\\nSkipping line 3611: expected 2 fields, saw 3\\nSkipping line 3613: expected 2 fields, saw 3\\nSkipping line 3716: expected 2 fields, saw 3\\nSkipping line 3729: expected 2 fields, saw 8\\nSkipping line 3802: expected 2 fields, saw 3\\nSkipping line 3864: expected 2 fields, saw 3\\nSkipping line 3896: expected 2 fields, saw 3\\nSkipping line 3932: expected 2 fields, saw 3\\nSkipping line 3984: expected 2 fields, saw 3\\nSkipping line 4001: expected 2 fields, saw 3\\nSkipping line 4012: expected 2 fields, saw 3\\nSkipping line 4054: expected 2 fields, saw 3\\nSkipping line 4118: expected 2 fields, saw 3\\nSkipping line 4119: expected 2 fields, saw 3\\nSkipping line 4124: expected 2 fields, saw 3\\nSkipping line 4171: expected 2 fields, saw 3\\nSkipping line 4188: expected 2 fields, saw 3\\nSkipping line 4189: expected 2 fields, saw 3\\nSkipping line 4192: expected 2 fields, saw 3\\nSkipping line 4260: expected 2 fields, saw 3\\nSkipping line 4265: expected 2 fields, saw 3\\nSkipping line 4281: expected 2 fields, saw 3\\nSkipping line 4282: expected 2 fields, saw 3\\nSkipping line 4285: expected 2 fields, saw 3\\nSkipping line 4339: expected 2 fields, saw 16\\nSkipping line 4354: expected 2 fields, saw 3\\nSkipping line 4377: expected 2 fields, saw 3\\nSkipping line 4490: expected 2 fields, saw 3\\nSkipping line 4495: expected 2 fields, saw 3\\nSkipping line 4522: expected 2 fields, saw 3\\nSkipping line 4531: expected 2 fields, saw 3\\nSkipping line 4575: expected 2 fields, saw 3\\nSkipping line 4712: expected 2 fields, saw 3\\nSkipping line 4727: expected 2 fields, saw 3\\nSkipping line 4732: expected 2 fields, saw 3\\nSkipping line 4743: expected 2 fields, saw 3\\nSkipping line 4747: expected 2 fields, saw 3\\nSkipping line 4771: expected 2 fields, saw 3\\nSkipping line 4773: expected 2 fields, saw 3\\nSkipping line 4788: expected 2 fields, saw 3\\nSkipping line 4812: expected 2 fields, saw 3\\nSkipping line 4821: expected 2 fields, saw 3\\nSkipping line 4875: expected 2 fields, saw 3\\nSkipping line 4897: expected 2 fields, saw 3\\nSkipping line 4930: expected 2 fields, saw 3\\nSkipping line 4963: expected 2 fields, saw 3\\nSkipping line 4970: expected 2 fields, saw 3\\nSkipping line 5224: expected 2 fields, saw 3\\nSkipping line 5315: expected 2 fields, saw 3\\nSkipping line 5620: expected 2 fields, saw 3\\nSkipping line 5623: expected 2 fields, saw 3\\nSkipping line 5626: expected 2 fields, saw 3\\nSkipping line 5628: expected 2 fields, saw 3\\nSkipping line 5688: expected 2 fields, saw 3\\nSkipping line 5689: expected 2 fields, saw 3\\nSkipping line 5690: expected 2 fields, saw 3\\nSkipping line 5692: expected 2 fields, saw 3\\nSkipping line 5729: expected 2 fields, saw 3\\nSkipping line 6068: expected 2 fields, saw 3\\nSkipping line 6369: expected 2 fields, saw 3\\nSkipping line 6396: expected 2 fields, saw 3\\nSkipping line 6439: expected 2 fields, saw 3\\nSkipping line 6514: expected 2 fields, saw 3\\nSkipping line 7293: expected 2 fields, saw 5\\nSkipping line 7574: expected 2 fields, saw 8\\nSkipping line 7670: expected 2 fields, saw 3\\nSkipping line 7705: expected 2 fields, saw 3\\nSkipping line 8282: expected 2 fields, saw 66\\nSkipping line 8476: expected 2 fields, saw 111\\n'\n"
     ]
    }
   ],
   "source": [
    "train_df = pd.read_csv(r'疫情政务问答助手数据集\\NCPPolicies_train_20200301.csv',sep = '\\t',encoding = 'utf-8')\n",
    "\n",
    "context_df = pd.read_csv(r'疫情政务问答助手数据集\\NCPPolicies_context_20200301.csv',sep = '\\t',error_bad_lines=False,encoding = 'utf-8')"
   ]
  },
  {
   "cell_type": "code",
   "execution_count": 3,
   "metadata": {},
   "outputs": [],
   "source": [
    "merge_df = pd.merge(context_df,train_df, how='left', on='docid')\n",
    "#merge_df['text'] = merge_df['text'].apply(lambda x : str(x).replace(' ', '').replace('\\t', ''))\n",
    "#merge_df['question'] = merge_df['question'].apply(lambda x : str(x).replace(' ', '').replace('\\t', ''))\n",
    "merge_df.drop_duplicates(inplace = True)\n",
    "merge_df.dropna(inplace = True)\n"
   ]
  },
  {
   "cell_type": "code",
   "execution_count": 4,
   "metadata": {},
   "outputs": [
    {
     "name": "stdout",
     "output_type": "stream",
     "text": [
      "<class 'pandas.core.frame.DataFrame'>\n",
      "Int64Index: 4997 entries, 0 to 11143\n",
      "Data columns (total 5 columns):\n",
      " #   Column    Non-Null Count  Dtype \n",
      "---  ------    --------------  ----- \n",
      " 0   docid     4997 non-null   object\n",
      " 1   text      4997 non-null   object\n",
      " 2   id        4997 non-null   object\n",
      " 3   question  4997 non-null   object\n",
      " 4   answer    4997 non-null   object\n",
      "dtypes: object(5)\n",
      "memory usage: 234.2+ KB\n"
     ]
    }
   ],
   "source": [
    "merge_df.info()"
   ]
  },
  {
   "cell_type": "code",
   "execution_count": 5,
   "metadata": {},
   "outputs": [
    {
     "data": {
      "text/html": [
       "<div>\n",
       "<style scoped>\n",
       "    .dataframe tbody tr th:only-of-type {\n",
       "        vertical-align: middle;\n",
       "    }\n",
       "\n",
       "    .dataframe tbody tr th {\n",
       "        vertical-align: top;\n",
       "    }\n",
       "\n",
       "    .dataframe thead th {\n",
       "        text-align: right;\n",
       "    }\n",
       "</style>\n",
       "<table border=\"1\" class=\"dataframe\">\n",
       "  <thead>\n",
       "    <tr style=\"text-align: right;\">\n",
       "      <th></th>\n",
       "      <th>docid</th>\n",
       "      <th>text</th>\n",
       "      <th>id</th>\n",
       "      <th>question</th>\n",
       "      <th>answer</th>\n",
       "    </tr>\n",
       "  </thead>\n",
       "  <tbody>\n",
       "    <tr>\n",
       "      <th>0</th>\n",
       "      <td>edd1413c78e534afb136f36fdc9c9a00</td>\n",
       "      <td>福建：6部门联合出台暖企措施支持复工稳岗 为解决企业复产的用工困难，经省政府同意，省人社厅、...</td>\n",
       "      <td>fdc51a7baeff3fafbae6736422783528</td>\n",
       "      <td>福建联合出台暖企措施支持复工稳岗的部门都有谁？</td>\n",
       "      <td>省人社厅、省工信厅、省教育厅、省财政厅、省交通运输厅、省卫健委</td>\n",
       "    </tr>\n",
       "    <tr>\n",
       "      <th>1</th>\n",
       "      <td>edd1413c78e534afb136f36fdc9c9a00</td>\n",
       "      <td>福建：6部门联合出台暖企措施支持复工稳岗 为解决企业复产的用工困难，经省政府同意，省人社厅、...</td>\n",
       "      <td>6b7b0c209ac939afa43f030d67433178</td>\n",
       "      <td>福建政府针对引入本地劳动力的、未经有关机构确认的疫情物资生产企业做何补助？</td>\n",
       "      <td>一次性用工服务奖补标准最高提到每人2000元。</td>\n",
       "    </tr>\n",
       "    <tr>\n",
       "      <th>3</th>\n",
       "      <td>8bab952dfa1a367da1b8e7ad864d766b</td>\n",
       "      <td>吉林多措并举保民生  2月18日，省政府新闻办围绕就业和医疗保障等民生问题召开新闻发布会。省...</td>\n",
       "      <td>2c3b39b675493830b4d1f2f4f2a436f9</td>\n",
       "      <td>吉林省各级医疗保障部门为百姓提供哪些便捷服务？</td>\n",
       "      <td>全面实行“非必须、不窗口”经办服务，通过“网上办”“掌上办”“延长时限办”“后期补办”等方式...</td>\n",
       "    </tr>\n",
       "    <tr>\n",
       "      <th>4</th>\n",
       "      <td>8bab952dfa1a367da1b8e7ad864d766b</td>\n",
       "      <td>吉林多措并举保民生  2月18日，省政府新闻办围绕就业和医疗保障等民生问题召开新闻发布会。省...</td>\n",
       "      <td>9a9acefa0f533ca99fd174aa89b7f600</td>\n",
       "      <td>吉林省提前预付医保基金总额达到了多少？</td>\n",
       "      <td>1.22亿元</td>\n",
       "    </tr>\n",
       "    <tr>\n",
       "      <th>8</th>\n",
       "      <td>a84ad5c0fc7d3755926ec5bf2b2d9dae</td>\n",
       "      <td>重庆出台援企稳岗返还政策 2月16日，记者从市人力社保局获悉，为切实减轻中小企业负担，充分发...</td>\n",
       "      <td>a505ce9785333655aae92fabba500f70</td>\n",
       "      <td>重庆援企稳岗返还政策的申请条件是什么？</td>\n",
       "      <td>依法参加社会保险并足额缴纳2019年度社会保险费（截至2019年12月31日无欠费），企业2...</td>\n",
       "    </tr>\n",
       "  </tbody>\n",
       "</table>\n",
       "</div>"
      ],
      "text/plain": [
       "                              docid  \\\n",
       "0  edd1413c78e534afb136f36fdc9c9a00   \n",
       "1  edd1413c78e534afb136f36fdc9c9a00   \n",
       "3  8bab952dfa1a367da1b8e7ad864d766b   \n",
       "4  8bab952dfa1a367da1b8e7ad864d766b   \n",
       "8  a84ad5c0fc7d3755926ec5bf2b2d9dae   \n",
       "\n",
       "                                                text  \\\n",
       "0  福建：6部门联合出台暖企措施支持复工稳岗 为解决企业复产的用工困难，经省政府同意，省人社厅、...   \n",
       "1  福建：6部门联合出台暖企措施支持复工稳岗 为解决企业复产的用工困难，经省政府同意，省人社厅、...   \n",
       "3  吉林多措并举保民生  2月18日，省政府新闻办围绕就业和医疗保障等民生问题召开新闻发布会。省...   \n",
       "4  吉林多措并举保民生  2月18日，省政府新闻办围绕就业和医疗保障等民生问题召开新闻发布会。省...   \n",
       "8  重庆出台援企稳岗返还政策 2月16日，记者从市人力社保局获悉，为切实减轻中小企业负担，充分发...   \n",
       "\n",
       "                                 id                               question  \\\n",
       "0  fdc51a7baeff3fafbae6736422783528                福建联合出台暖企措施支持复工稳岗的部门都有谁？   \n",
       "1  6b7b0c209ac939afa43f030d67433178  福建政府针对引入本地劳动力的、未经有关机构确认的疫情物资生产企业做何补助？   \n",
       "3  2c3b39b675493830b4d1f2f4f2a436f9                吉林省各级医疗保障部门为百姓提供哪些便捷服务？   \n",
       "4  9a9acefa0f533ca99fd174aa89b7f600                    吉林省提前预付医保基金总额达到了多少？   \n",
       "8  a505ce9785333655aae92fabba500f70                    重庆援企稳岗返还政策的申请条件是什么？   \n",
       "\n",
       "                                              answer  \n",
       "0                    省人社厅、省工信厅、省教育厅、省财政厅、省交通运输厅、省卫健委  \n",
       "1                            一次性用工服务奖补标准最高提到每人2000元。  \n",
       "3  全面实行“非必须、不窗口”经办服务，通过“网上办”“掌上办”“延长时限办”“后期补办”等方式...  \n",
       "4                                             1.22亿元  \n",
       "8  依法参加社会保险并足额缴纳2019年度社会保险费（截至2019年12月31日无欠费），企业2...  "
      ]
     },
     "execution_count": 5,
     "metadata": {},
     "output_type": "execute_result"
    }
   ],
   "source": [
    "merge_df.head()"
   ]
  },
  {
   "cell_type": "code",
   "execution_count": 6,
   "metadata": {},
   "outputs": [],
   "source": [
    "# HERE I find the indices (start) of the selected_text from Text column and create a new column called answer_index\n",
    "def answer_index(x):\n",
    "    return x.text.find(str(x.answer))\n",
    "\n",
    "merge_df[\"answer_index\"]=merge_df.apply(answer_index,axis=1)\n",
    "#merge_df[\"answer\"] = merge_df[merge_df['answer_index'] == -1]"
   ]
  },
  {
   "cell_type": "code",
   "execution_count": 7,
   "metadata": {},
   "outputs": [
    {
     "data": {
      "text/plain": [
       "0    福建：6部门联合出台暖企措施支持复工稳岗 为解决企业复产的用工困难，经省政府同意，省人社厅、...\n",
       "Name: text, dtype: object"
      ]
     },
     "execution_count": 7,
     "metadata": {},
     "output_type": "execute_result"
    }
   ],
   "source": [
    "merge_df[:1].text"
   ]
  },
  {
   "cell_type": "code",
   "execution_count": 8,
   "metadata": {},
   "outputs": [
    {
     "data": {
      "text/html": [
       "<div>\n",
       "<style scoped>\n",
       "    .dataframe tbody tr th:only-of-type {\n",
       "        vertical-align: middle;\n",
       "    }\n",
       "\n",
       "    .dataframe tbody tr th {\n",
       "        vertical-align: top;\n",
       "    }\n",
       "\n",
       "    .dataframe thead th {\n",
       "        text-align: right;\n",
       "    }\n",
       "</style>\n",
       "<table border=\"1\" class=\"dataframe\">\n",
       "  <thead>\n",
       "    <tr style=\"text-align: right;\">\n",
       "      <th></th>\n",
       "      <th>docid</th>\n",
       "      <th>text</th>\n",
       "      <th>id</th>\n",
       "      <th>question</th>\n",
       "      <th>answer</th>\n",
       "      <th>answer_index</th>\n",
       "    </tr>\n",
       "  </thead>\n",
       "  <tbody>\n",
       "    <tr>\n",
       "      <th>0</th>\n",
       "      <td>edd1413c78e534afb136f36fdc9c9a00</td>\n",
       "      <td>福建：6部门联合出台暖企措施支持复工稳岗 为解决企业复产的用工困难，经省政府同意，省人社厅、...</td>\n",
       "      <td>fdc51a7baeff3fafbae6736422783528</td>\n",
       "      <td>福建联合出台暖企措施支持复工稳岗的部门都有谁？</td>\n",
       "      <td>省人社厅、省工信厅、省教育厅、省财政厅、省交通运输厅、省卫健委</td>\n",
       "      <td>41</td>\n",
       "    </tr>\n",
       "    <tr>\n",
       "      <th>1</th>\n",
       "      <td>edd1413c78e534afb136f36fdc9c9a00</td>\n",
       "      <td>福建：6部门联合出台暖企措施支持复工稳岗 为解决企业复产的用工困难，经省政府同意，省人社厅、...</td>\n",
       "      <td>6b7b0c209ac939afa43f030d67433178</td>\n",
       "      <td>福建政府针对引入本地劳动力的、未经有关机构确认的疫情物资生产企业做何补助？</td>\n",
       "      <td>一次性用工服务奖补标准最高提到每人2000元。</td>\n",
       "      <td>336</td>\n",
       "    </tr>\n",
       "    <tr>\n",
       "      <th>3</th>\n",
       "      <td>8bab952dfa1a367da1b8e7ad864d766b</td>\n",
       "      <td>吉林多措并举保民生  2月18日，省政府新闻办围绕就业和医疗保障等民生问题召开新闻发布会。省...</td>\n",
       "      <td>2c3b39b675493830b4d1f2f4f2a436f9</td>\n",
       "      <td>吉林省各级医疗保障部门为百姓提供哪些便捷服务？</td>\n",
       "      <td>全面实行“非必须、不窗口”经办服务，通过“网上办”“掌上办”“延长时限办”“后期补办”等方式...</td>\n",
       "      <td>1792</td>\n",
       "    </tr>\n",
       "    <tr>\n",
       "      <th>4</th>\n",
       "      <td>8bab952dfa1a367da1b8e7ad864d766b</td>\n",
       "      <td>吉林多措并举保民生  2月18日，省政府新闻办围绕就业和医疗保障等民生问题召开新闻发布会。省...</td>\n",
       "      <td>9a9acefa0f533ca99fd174aa89b7f600</td>\n",
       "      <td>吉林省提前预付医保基金总额达到了多少？</td>\n",
       "      <td>1.22亿元</td>\n",
       "      <td>1466</td>\n",
       "    </tr>\n",
       "    <tr>\n",
       "      <th>8</th>\n",
       "      <td>a84ad5c0fc7d3755926ec5bf2b2d9dae</td>\n",
       "      <td>重庆出台援企稳岗返还政策 2月16日，记者从市人力社保局获悉，为切实减轻中小企业负担，充分发...</td>\n",
       "      <td>a505ce9785333655aae92fabba500f70</td>\n",
       "      <td>重庆援企稳岗返还政策的申请条件是什么？</td>\n",
       "      <td>依法参加社会保险并足额缴纳2019年度社会保险费（截至2019年12月31日无欠费），企业2...</td>\n",
       "      <td>304</td>\n",
       "    </tr>\n",
       "  </tbody>\n",
       "</table>\n",
       "</div>"
      ],
      "text/plain": [
       "                              docid  \\\n",
       "0  edd1413c78e534afb136f36fdc9c9a00   \n",
       "1  edd1413c78e534afb136f36fdc9c9a00   \n",
       "3  8bab952dfa1a367da1b8e7ad864d766b   \n",
       "4  8bab952dfa1a367da1b8e7ad864d766b   \n",
       "8  a84ad5c0fc7d3755926ec5bf2b2d9dae   \n",
       "\n",
       "                                                text  \\\n",
       "0  福建：6部门联合出台暖企措施支持复工稳岗 为解决企业复产的用工困难，经省政府同意，省人社厅、...   \n",
       "1  福建：6部门联合出台暖企措施支持复工稳岗 为解决企业复产的用工困难，经省政府同意，省人社厅、...   \n",
       "3  吉林多措并举保民生  2月18日，省政府新闻办围绕就业和医疗保障等民生问题召开新闻发布会。省...   \n",
       "4  吉林多措并举保民生  2月18日，省政府新闻办围绕就业和医疗保障等民生问题召开新闻发布会。省...   \n",
       "8  重庆出台援企稳岗返还政策 2月16日，记者从市人力社保局获悉，为切实减轻中小企业负担，充分发...   \n",
       "\n",
       "                                 id                               question  \\\n",
       "0  fdc51a7baeff3fafbae6736422783528                福建联合出台暖企措施支持复工稳岗的部门都有谁？   \n",
       "1  6b7b0c209ac939afa43f030d67433178  福建政府针对引入本地劳动力的、未经有关机构确认的疫情物资生产企业做何补助？   \n",
       "3  2c3b39b675493830b4d1f2f4f2a436f9                吉林省各级医疗保障部门为百姓提供哪些便捷服务？   \n",
       "4  9a9acefa0f533ca99fd174aa89b7f600                    吉林省提前预付医保基金总额达到了多少？   \n",
       "8  a505ce9785333655aae92fabba500f70                    重庆援企稳岗返还政策的申请条件是什么？   \n",
       "\n",
       "                                              answer  answer_index  \n",
       "0                    省人社厅、省工信厅、省教育厅、省财政厅、省交通运输厅、省卫健委            41  \n",
       "1                            一次性用工服务奖补标准最高提到每人2000元。           336  \n",
       "3  全面实行“非必须、不窗口”经办服务，通过“网上办”“掌上办”“延长时限办”“后期补办”等方式...          1792  \n",
       "4                                             1.22亿元          1466  \n",
       "8  依法参加社会保险并足额缴纳2019年度社会保险费（截至2019年12月31日无欠费），企业2...           304  "
      ]
     },
     "execution_count": 8,
     "metadata": {},
     "output_type": "execute_result"
    }
   ],
   "source": [
    "merge_df.head()"
   ]
  },
  {
   "cell_type": "code",
   "execution_count": 9,
   "metadata": {},
   "outputs": [],
   "source": [
    "train_data = []\n",
    "\n",
    "def make_train_data(df):      \n",
    "    for ind in df.index:\n",
    "        main_d=dict()\n",
    "        context=df.loc[ind,\"text\"].lower()\n",
    "        main_d[\"context\"] = context\n",
    "        qas=[]\n",
    "        inside_qas={}\n",
    "        inside_qas[\"id\"]=df.loc[ind,\"docid\"]\n",
    "        inside_qas[\"question\"]=df.loc[ind,\"question\"]\n",
    "        inside_answer=[{\"text\":df.loc[ind,\"answer\"].lower(),\"answer_start\": int(df.loc[ind,\"answer_index\"])}]\n",
    "        inside_qas[\"answers\"]=inside_answer\n",
    "        inside_qas[\"is_impossible\"]=False\n",
    "        qas.append(inside_qas)\n",
    "        main_d[\"qas\"]=qas\n",
    "        train_data.append({\"title\": \" \",\"paragraphs\": [main_d]})\n",
    "    return train_data\n",
    "          "
   ]
  },
  {
   "cell_type": "code",
   "execution_count": 10,
   "metadata": {},
   "outputs": [],
   "source": [
    "def answer_index(x):\n",
    "    return x.text.find(str(x.answer))\n",
    "\n",
    "merge_df[\"answer_index\"]=merge_df.apply(answer_index,axis=1)"
   ]
  },
  {
   "cell_type": "code",
   "execution_count": 11,
   "metadata": {},
   "outputs": [],
   "source": [
    "train_data = make_train_data(merge_df)\n"
   ]
  },
  {
   "cell_type": "code",
   "execution_count": 12,
   "metadata": {},
   "outputs": [
    {
     "data": {
      "text/plain": [
       "{'title': ' ',\n",
       " 'paragraphs': [{'context': '福建：6部门联合出台暖企措施支持复工稳岗 为解决企业复产的用工困难，经省政府同意，省人社厅、省工信厅、省教育厅、省财政厅、省交通运输厅、省卫健委联合下发通知，出台一系列暖企措施支持疫情防控期间复工稳岗。 通知明确，切实发挥各级农民工工作领导小组办公室的统筹协调作用, 加强劳务用工有效对接，对具备外出务工条件、可成规模输送到我省用工地，并在出行前14天内及在途没有相关症状的，可由用工地和输出地联合开展“点对点、一站式”直达企业的专门运输。省级公共就业服务机构可与主要劳务输出省份签订劳务协作协议、设立劳务协作工作站，对每个工作站给予一次性10万元就业服务经费补助。鼓励优先聘用本地劳务人员。 未经省应对新冠肺炎疫情工作有关机构确认的疫情防控急需物资生产企业引进劳动力的，一次性用工服务奖补标准最高提到每人2000元。对上述企业坚持在生产一线工作的职工，给予每人每天100元的生活补助，纳入一次性用工服务奖补范畴。对春节当月至疫情一级响应结束月，采取稳定职工队伍保持连续生产的企业，给予一次性稳就业奖补。 加大失业保险稳岗返还力度，将中小微企业稳岗返还政策裁员率标准调整为不高于上年度全国调查失业率的控制目标，对参保职工30人（含）以下的企业，裁员率调整为不超过企业参保职工总数的20%。对不裁员或少裁员，符合条件的参保企业，可返还其上年度实际缴纳失业保险费的50%。对受疫情影响面临暂时性生产经营困难且恢复有望、坚持不裁员或少裁员、符合条件的参保企业，按6个月的当地月人均失业保险金和参保职工人数落实失业保险稳岗返还政策。 加强职业技能培训，鼓励技工院校学生在符合疫情防控条件下参加实习实训，探索简易岗前技能培训。对企业因生产急需新录用的人员，按每人200元标准一次性给予企业简易岗前技能培训补贴。鼓励实施线上培训，对受疫情影响的企业，在停工期、恢复期组织职工参加各类线上或线下职业培训的，可按规定纳入补贴类培训范围。 通知要求，各地要着力提升政策措施的精准度和有效性，提升各类企业享受政策措施的获得感。各类企业要落实落细防控主体责任，严格落实返岗信息登记、班车错峰接送、员工分散用餐、体温监测等具体应对措施，确保复工稳岗和疫情防控两不误。（记者 潘园园） ',\n",
       "   'qas': [{'id': 'edd1413c78e534afb136f36fdc9c9a00',\n",
       "     'question': '福建联合出台暖企措施支持复工稳岗的部门都有谁？',\n",
       "     'answers': [{'text': '省人社厅、省工信厅、省教育厅、省财政厅、省交通运输厅、省卫健委',\n",
       "       'answer_start': 41}],\n",
       "     'is_impossible': False}]}]}"
      ]
     },
     "execution_count": 12,
     "metadata": {},
     "output_type": "execute_result"
    }
   ],
   "source": [
    "train_data[0]"
   ]
  },
  {
   "cell_type": "code",
   "execution_count": 13,
   "metadata": {},
   "outputs": [],
   "source": [
    "store_data = {'data':train_data}"
   ]
  },
  {
   "cell_type": "code",
   "execution_count": 14,
   "metadata": {},
   "outputs": [],
   "source": [
    "import json\n",
    "\n",
    "with open(r'Coronavirus2019.json', 'w',encoding = 'utf-8') as outfile:\n",
    "    json.dump(store_data, outfile,ensure_ascii = False,indent=4)\n"
   ]
  },
  {
   "cell_type": "code",
   "execution_count": 94,
   "metadata": {},
   "outputs": [],
   "source": [
    "import logging,json\n",
    "\n",
    "def generate_examples(filepath):\n",
    "        ids,contexts,questions,answers = [], [], [], []\n",
    "        logging.info(\"generating examples from = %s\", filepath)\n",
    "        with open(filepath, encoding=\"utf-8\") as f:\n",
    "            squad = json.load(f)\n",
    "            for article in squad[\"data\"]:\n",
    "                title = article.get(\"title\", \"\").strip()\n",
    "                for paragraph in article[\"paragraphs\"]:\n",
    "                    \n",
    "                    for qa in paragraph[\"qas\"]:\n",
    "                        contexts.append(paragraph[\"context\"].strip())\n",
    "                        questions.append(qa[\"question\"].strip())\n",
    "                        ids.append (qa[\"id\"])\n",
    "                        if qa[\"answers\"]:\n",
    "                            answers.append([answer[\"text\"].strip() for answer in qa[\"answers\"]][0])\n",
    "                        else:\n",
    "                            answers.append(-1)\n",
    "\n",
    "        return ids,contexts,questions,answers"
   ]
  },
  {
   "cell_type": "code",
   "execution_count": 147,
   "metadata": {},
   "outputs": [],
   "source": [
    "ids,contexts,questions,answers = generate_examples(r'C:\\Users\\Administrator\\Desktop\\2020.07.21基于transformers的智能问答\\DRCD-master\\DRCD_dev.json')"
   ]
  },
  {
   "cell_type": "code",
   "execution_count": 148,
   "metadata": {},
   "outputs": [
    {
     "data": {
      "text/plain": [
       "(3524, 3524, 3524, 3524)"
      ]
     },
     "execution_count": 148,
     "metadata": {},
     "output_type": "execute_result"
    }
   ],
   "source": [
    "len(ids),len(contexts),len(questions),len(answers)"
   ]
  },
  {
   "cell_type": "code",
   "execution_count": 149,
   "metadata": {},
   "outputs": [
    {
     "data": {
      "text/plain": [
       "('1147-5-2',\n",
       " '在歐洲，梵語的學術研究，由德國學者陸特和漢斯雷頓開創。後來威廉·瓊斯發現印歐語系，也要歸功於對梵語的研究。此外，梵語研究，也對西方文字學及歷史語言學的發展，貢獻不少。1786年2月2日，亞洲協會在加爾各答舉行。會中，威廉·瓊斯發表了下面這段著名的言論：「梵語儘管非常古老，構造卻精妙絕倫：比希臘語還完美，比拉丁語還豐富，精緻之處同時勝過此兩者，但在動詞詞根和語法形式上，又跟此兩者無比相似，不可能是巧合的結果。這三種語言太相似了，使任何同時稽考三者的語文學家都不得不相信三者同出一源，出自一種可能已經消逝的語言。基於相似的原因，儘管缺少同樣有力的證據，我們可以推想哥德語和凱爾特語，雖然混入了迥然不同的語彙，也與梵語有著相同的起源；而古波斯語可能也是這一語系的子裔。」',\n",
       " '印歐語系因為哪一門語言而被發現？',\n",
       " '梵語')"
      ]
     },
     "execution_count": 149,
     "metadata": {},
     "output_type": "execute_result"
    }
   ],
   "source": [
    "ids[1],contexts[1],questions[1],answers[1]"
   ]
  },
  {
   "cell_type": "code",
   "execution_count": 150,
   "metadata": {},
   "outputs": [],
   "source": [
    "train_df = pd.DataFrame({'docid':ids,'context':\tcontexts, 'question':questions,'answer':answers})"
   ]
  },
  {
   "cell_type": "code",
   "execution_count": 151,
   "metadata": {},
   "outputs": [
    {
     "data": {
      "text/html": [
       "<div>\n",
       "<style scoped>\n",
       "    .dataframe tbody tr th:only-of-type {\n",
       "        vertical-align: middle;\n",
       "    }\n",
       "\n",
       "    .dataframe tbody tr th {\n",
       "        vertical-align: top;\n",
       "    }\n",
       "\n",
       "    .dataframe thead th {\n",
       "        text-align: right;\n",
       "    }\n",
       "</style>\n",
       "<table border=\"1\" class=\"dataframe\">\n",
       "  <thead>\n",
       "    <tr style=\"text-align: right;\">\n",
       "      <th></th>\n",
       "      <th>docid</th>\n",
       "      <th>context</th>\n",
       "      <th>question</th>\n",
       "      <th>answer</th>\n",
       "    </tr>\n",
       "  </thead>\n",
       "  <tbody>\n",
       "    <tr>\n",
       "      <th>0</th>\n",
       "      <td>1147-5-1</td>\n",
       "      <td>在歐洲，梵語的學術研究，由德國學者陸特和漢斯雷頓開創。後來威廉·瓊斯發現印歐語系，也要歸功於...</td>\n",
       "      <td>陸特和漢斯雷頓開創了哪一地區對梵語的學術研究？</td>\n",
       "      <td>歐洲</td>\n",
       "    </tr>\n",
       "    <tr>\n",
       "      <th>1</th>\n",
       "      <td>1147-5-2</td>\n",
       "      <td>在歐洲，梵語的學術研究，由德國學者陸特和漢斯雷頓開創。後來威廉·瓊斯發現印歐語系，也要歸功於...</td>\n",
       "      <td>印歐語系因為哪一門語言而被發現？</td>\n",
       "      <td>梵語</td>\n",
       "    </tr>\n",
       "    <tr>\n",
       "      <th>2</th>\n",
       "      <td>1147-5-3</td>\n",
       "      <td>在歐洲，梵語的學術研究，由德國學者陸特和漢斯雷頓開創。後來威廉·瓊斯發現印歐語系，也要歸功於...</td>\n",
       "      <td>誰認為希臘語、拉丁語與梵語是出自於同一門可能已經消失的語言？</td>\n",
       "      <td>威廉·瓊斯</td>\n",
       "    </tr>\n",
       "    <tr>\n",
       "      <th>3</th>\n",
       "      <td>1147-6-1</td>\n",
       "      <td>梵語在社交中口頭使用，並且在早期古典梵語文獻的發展中維持口頭傳統。在印度，書寫形式是當梵語發...</td>\n",
       "      <td>印度的梵語的書寫形式是到何時才出現的？</td>\n",
       "      <td>當梵語發展成俗語之後</td>\n",
       "    </tr>\n",
       "    <tr>\n",
       "      <th>4</th>\n",
       "      <td>1147-6-2</td>\n",
       "      <td>梵語在社交中口頭使用，並且在早期古典梵語文獻的發展中維持口頭傳統。在印度，書寫形式是當梵語發...</td>\n",
       "      <td>天城文在何時成為梵語的標準書寫系統？</td>\n",
       "      <td>19世紀晚期</td>\n",
       "    </tr>\n",
       "  </tbody>\n",
       "</table>\n",
       "</div>"
      ],
      "text/plain": [
       "      docid                                            context  \\\n",
       "0  1147-5-1  在歐洲，梵語的學術研究，由德國學者陸特和漢斯雷頓開創。後來威廉·瓊斯發現印歐語系，也要歸功於...   \n",
       "1  1147-5-2  在歐洲，梵語的學術研究，由德國學者陸特和漢斯雷頓開創。後來威廉·瓊斯發現印歐語系，也要歸功於...   \n",
       "2  1147-5-3  在歐洲，梵語的學術研究，由德國學者陸特和漢斯雷頓開創。後來威廉·瓊斯發現印歐語系，也要歸功於...   \n",
       "3  1147-6-1  梵語在社交中口頭使用，並且在早期古典梵語文獻的發展中維持口頭傳統。在印度，書寫形式是當梵語發...   \n",
       "4  1147-6-2  梵語在社交中口頭使用，並且在早期古典梵語文獻的發展中維持口頭傳統。在印度，書寫形式是當梵語發...   \n",
       "\n",
       "                         question      answer  \n",
       "0         陸特和漢斯雷頓開創了哪一地區對梵語的學術研究？          歐洲  \n",
       "1                印歐語系因為哪一門語言而被發現？          梵語  \n",
       "2  誰認為希臘語、拉丁語與梵語是出自於同一門可能已經消失的語言？       威廉·瓊斯  \n",
       "3             印度的梵語的書寫形式是到何時才出現的？  當梵語發展成俗語之後  \n",
       "4              天城文在何時成為梵語的標準書寫系統？      19世紀晚期  "
      ]
     },
     "execution_count": 151,
     "metadata": {},
     "output_type": "execute_result"
    }
   ],
   "source": [
    "train_df.head()"
   ]
  },
  {
   "cell_type": "code",
   "execution_count": 153,
   "metadata": {},
   "outputs": [],
   "source": [
    "def answer_index(x):\n",
    "    return x.context.find(str(x.answer))\n",
    "\n",
    "train_df[\"answer_index\"]=train_df.apply(answer_index,axis=1)"
   ]
  },
  {
   "cell_type": "code",
   "execution_count": 154,
   "metadata": {},
   "outputs": [],
   "source": [
    "train_df.to_csv('aaacomm.csv')"
   ]
  },
  {
   "cell_type": "code",
   "execution_count": null,
   "metadata": {},
   "outputs": [],
   "source": []
  },
  {
   "cell_type": "markdown",
   "metadata": {},
   "source": [
    "## 合并多个json文件"
   ]
  },
  {
   "cell_type": "code",
   "execution_count": 21,
   "metadata": {},
   "outputs": [
    {
     "name": "stdout",
     "output_type": "stream",
     "text": [
      "conbined_train_data\\NCPPolicies_train.json\n",
      "conbined_train_data\\train-zen-v1.0.json\n"
     ]
    }
   ],
   "source": [
    "import os,glob,json\n",
    "\n",
    "data = []\n",
    "\n",
    "filesdir =r'conbined_train_data'\n",
    "for f in glob.glob(filesdir + \"\\\\*.json\"):\n",
    "    print(f)\n",
    "    with open(f, encoding = 'utf-8') as infile:\n",
    "        data.append(json.load(infile))\n",
    "\n",
    "with open(\"conbined_train_data\\merged_results.json\",'w', encoding = 'utf-8') as outfile:\n",
    "    json.dump(data, outfile,ensure_ascii = False,indent=4)"
   ]
  },
  {
   "cell_type": "markdown",
   "metadata": {
    "jupyter": {
     "source_hidden": true
    }
   },
   "source": [
    "### 【Squad形式】\n",
    "```\n",
    "{'answers': {'answer_start': [148], 'text': ['圣伯纳黛特苏比罗斯。']},\n",
    " 'context': '在建筑上，这所学校是天主教的。在主楼的金色穹顶上是一座圣母玛利亚的金色雕像。紧靠着主楼的前面，面对着它，是一尊双臂高举的基督铜像，上面写着“威尼斯和我的天”。主楼旁边是圣心大教堂。紧跟在大教堂后面的是石窟，一个马里祈祷和思考的地方。这是法国卢尔德石窟的复制品，据说1858年圣母玛利亚在那里出现在圣伯纳黛特苏比罗斯。在主干道的尽头（通过3座雕像和金色穹顶直接连接），是一座简单的现代玛丽石像。',\n",
    " 'id': '5733be284776f41900661182',\n",
    " 'question': '据称，1858年，圣母玛利亚在法国卢尔德出现在谁的面前？',\n",
    " 'title': '圣母大学'}\n",
    "```"
   ]
  },
  {
   "cell_type": "markdown",
   "metadata": {
    "jupyter": {
     "source_hidden": true
    }
   },
   "source": [
    "### 【预期形式】\n",
    "\n",
    "``` \n",
    "    {\n",
    "        \"context\": \"福建：6部门联合出台暖企措施支持复工稳岗 为解决企业复产的用工困难，经省政府同意，省人社厅、省工信厅、省教育厅、省财政厅、省交通运输厅、省卫健委联合下发通知，出台一系列暖企措施支持疫情防控期间复工稳岗。 通知明确，切实发挥各级农民工工作领导小组办公室的统筹协调作用, 加强劳务用工有效对接，对具备外出务工条件、可成规模输送到我省用工地，并在出行前14天内及在途没有相关症状的，可由用工地和输出地联合开展“点对点、一站式”直达企业的专门运输。省级公共就业服务机构可与主要劳务输出省份签订劳务协作协议、设立劳务协作工作站，对每个工作站给予一次性10万元就业服务经费补助。鼓励优先聘用本地劳务人员。 未经省应对新冠肺炎疫情工作有关机构确认的疫情防控急需物资生产企业引进劳动力的，一次性用工服务奖补标准最高提到每人2000元。对上述企业坚持在生产一线工作的职工，给予每人每天100元的生活补助，纳入一次性用工服务奖补范畴。对春节当月至疫情一级响应结束月，采取稳定职工队伍保持连续生产的企业，给予一次性稳就业奖补。 加大失业保险稳岗返还力度，将中小微企业稳岗返还政策裁员率标准调整为不高于上年度全国调查失业率的控制目标，对参保职工30人（含）以下的企业，裁员率调整为不超过企业参保职工总数的20%。对不裁员或少裁员，符合条件的参保企业，可返还其上年度实际缴纳失业保险费的50%。对受疫情影响面临暂时性生产经营困难且恢复有望、坚持不裁员或少裁员、符合条件的参保企业，按6个月的当地月人均失业保险金和参保职工人数落实失业保险稳岗返还政策。 加强职业技能培训，鼓励技工院校学生在符合疫情防控条件下参加实习实训，探索简易岗前技能培训。对企业因生产急需新录用的人员，按每人200元标准一次性给予企业简易岗前技能培训补贴。鼓励实施线上培训，对受疫情影响的企业，在停工期、恢复期组织职工参加各类线上或线下职业培训的，可按规定纳入补贴类培训范围。 通知要求，各地要着力提升政策措施的精准度和有效性，提升各类企业享受政策措施的获得感。各类企业要落实落细防控主体责任，严格落实返岗信息登记、班车错峰接送、员工分散用餐、体温监测等具体应对措施，确保复工稳岗和疫情防控两不误。（记者 潘园园） \",\n",
    "        \"qas\": [\n",
    "            {\n",
    "                \"id\": \"edd1413c78e534afb136f36fdc9c9a00\",\n",
    "                \"question\": \"福建联合出台暖企措施支持复工稳岗的部门都有谁？\",\n",
    "                \"answers\": [\n",
    "                    {\n",
    "                        \"text\": \"省人社厅、省工信厅、省教育厅、省财政厅、省交通运输厅、省卫健委\",\n",
    "                        \"answer_start\": 41\n",
    "                    }\n",
    "                ],\n",
    "                \"is_impossible\": false\n",
    "            }\n",
    "        ]\n",
    "    }\n",
    "    \n",
    "```"
   ]
  }
 ],
 "metadata": {
  "kernelspec": {
   "display_name": "Python 3",
   "language": "python",
   "name": "python3"
  },
  "language_info": {
   "codemirror_mode": {
    "name": "ipython",
    "version": 3
   },
   "file_extension": ".py",
   "mimetype": "text/x-python",
   "name": "python",
   "nbconvert_exporter": "python",
   "pygments_lexer": "ipython3",
   "version": "3.6.5"
  }
 },
 "nbformat": 4,
 "nbformat_minor": 4
}
