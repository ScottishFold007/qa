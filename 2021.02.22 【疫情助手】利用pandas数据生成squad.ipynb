{
 "cells": [
  {
   "cell_type": "code",
   "execution_count": 1,
   "metadata": {},
   "outputs": [],
   "source": [
    "import json\n",
    "import os\n",
    "import re\n",
    "import sys\n",
    "from tqdm import tqdm\n",
    "from tika import parser\n",
    "import pandas as pd\n",
    "import uuid\n",
    "import markdown\n",
    "from pathlib import Path\n",
    "from html.parser import HTMLParser\n",
    "from ast import literal_eval\n",
    "\n",
    "def df2squad(df, squad_version=\"v1.1\", output_dir=None, filename=None):\n",
    "    \"\"\"\n",
    "     Converts a pandas dataframe with columns ['title', 'paragraphs'] to a json file with SQuAD format.\n",
    "\n",
    "     Parameters\n",
    "    ----------\n",
    "     df : pandas.DataFrame\n",
    "         a pandas dataframe with columns ['title', 'paragraphs']\n",
    "     squad_version : str, optional\n",
    "         the SQuAD dataset version format (the default is 'v2.0')\n",
    "     output_dir : str, optional\n",
    "         Enable export of output (the default is None)\n",
    "     filename : str, optional\n",
    "         [description]\n",
    "\n",
    "    Returns\n",
    "    -------\n",
    "    json_data: dict\n",
    "        A json object with SQuAD format\n",
    "\n",
    "    \"\"\"\n",
    "\n",
    "    json_data = {}\n",
    "    json_data[\"version\"] = squad_version\n",
    "    json_data[\"data\"] = []\n",
    "\n",
    "    for idx, row in tqdm(df.iterrows()):\n",
    "        temp = {\"title\": row[\"title\"], \"paragraphs\": []}\n",
    "        for paragraph in row[\"body_text_parags\"]:\n",
    "            temp[\"paragraphs\"].append({\"context\": paragraph, \"qas\": []})\n",
    "        json_data[\"data\"].append(temp)\n",
    "\n",
    "    if output_dir:\n",
    "        with open(os.path.join(output_dir, \"{}.json\".format(filename)), \"w\",encoding = 'utf-8') as outfile:\n",
    "            json.dump(json_data, outfile,ensure_ascii=False)\n",
    "\n",
    "    return json_data"
   ]
  },
  {
   "cell_type": "code",
   "execution_count": 3,
   "metadata": {},
   "outputs": [
    {
     "name": "stderr",
     "output_type": "stream",
     "text": [
      "b'Skipping line 134: expected 2 fields, saw 3\\nSkipping line 2130: expected 2 fields, saw 3\\nSkipping line 2877: expected 2 fields, saw 3\\nSkipping line 2955: expected 2 fields, saw 3\\nSkipping line 2974: expected 2 fields, saw 3\\nSkipping line 3038: expected 2 fields, saw 3\\nSkipping line 3052: expected 2 fields, saw 3\\nSkipping line 3053: expected 2 fields, saw 3\\nSkipping line 3080: expected 2 fields, saw 3\\nSkipping line 3086: expected 2 fields, saw 3\\nSkipping line 3094: expected 2 fields, saw 3\\nSkipping line 3115: expected 2 fields, saw 22\\nSkipping line 3180: expected 2 fields, saw 3\\nSkipping line 3189: expected 2 fields, saw 3\\nSkipping line 3191: expected 2 fields, saw 3\\nSkipping line 3197: expected 2 fields, saw 3\\nSkipping line 3203: expected 2 fields, saw 3\\nSkipping line 3209: expected 2 fields, saw 3\\nSkipping line 3215: expected 2 fields, saw 3\\nSkipping line 3611: expected 2 fields, saw 3\\nSkipping line 3613: expected 2 fields, saw 3\\nSkipping line 3716: expected 2 fields, saw 3\\nSkipping line 3729: expected 2 fields, saw 8\\nSkipping line 3802: expected 2 fields, saw 3\\nSkipping line 3864: expected 2 fields, saw 3\\nSkipping line 3896: expected 2 fields, saw 3\\nSkipping line 3932: expected 2 fields, saw 3\\nSkipping line 3984: expected 2 fields, saw 3\\nSkipping line 4001: expected 2 fields, saw 3\\nSkipping line 4012: expected 2 fields, saw 3\\nSkipping line 4054: expected 2 fields, saw 3\\nSkipping line 4118: expected 2 fields, saw 3\\nSkipping line 4119: expected 2 fields, saw 3\\nSkipping line 4124: expected 2 fields, saw 3\\nSkipping line 4171: expected 2 fields, saw 3\\nSkipping line 4188: expected 2 fields, saw 3\\nSkipping line 4189: expected 2 fields, saw 3\\nSkipping line 4192: expected 2 fields, saw 3\\nSkipping line 4260: expected 2 fields, saw 3\\nSkipping line 4265: expected 2 fields, saw 3\\nSkipping line 4281: expected 2 fields, saw 3\\nSkipping line 4282: expected 2 fields, saw 3\\nSkipping line 4285: expected 2 fields, saw 3\\nSkipping line 4339: expected 2 fields, saw 16\\nSkipping line 4354: expected 2 fields, saw 3\\nSkipping line 4377: expected 2 fields, saw 3\\nSkipping line 4490: expected 2 fields, saw 3\\nSkipping line 4495: expected 2 fields, saw 3\\nSkipping line 4522: expected 2 fields, saw 3\\nSkipping line 4531: expected 2 fields, saw 3\\nSkipping line 4575: expected 2 fields, saw 3\\nSkipping line 4712: expected 2 fields, saw 3\\nSkipping line 4727: expected 2 fields, saw 3\\nSkipping line 4732: expected 2 fields, saw 3\\nSkipping line 4743: expected 2 fields, saw 3\\nSkipping line 4747: expected 2 fields, saw 3\\nSkipping line 4771: expected 2 fields, saw 3\\nSkipping line 4773: expected 2 fields, saw 3\\nSkipping line 4788: expected 2 fields, saw 3\\nSkipping line 4812: expected 2 fields, saw 3\\nSkipping line 4821: expected 2 fields, saw 3\\nSkipping line 4875: expected 2 fields, saw 3\\nSkipping line 4897: expected 2 fields, saw 3\\nSkipping line 4930: expected 2 fields, saw 3\\nSkipping line 4963: expected 2 fields, saw 3\\nSkipping line 4970: expected 2 fields, saw 3\\nSkipping line 5224: expected 2 fields, saw 3\\nSkipping line 5315: expected 2 fields, saw 3\\nSkipping line 5620: expected 2 fields, saw 3\\nSkipping line 5623: expected 2 fields, saw 3\\nSkipping line 5626: expected 2 fields, saw 3\\nSkipping line 5628: expected 2 fields, saw 3\\nSkipping line 5688: expected 2 fields, saw 3\\nSkipping line 5689: expected 2 fields, saw 3\\nSkipping line 5690: expected 2 fields, saw 3\\nSkipping line 5692: expected 2 fields, saw 3\\nSkipping line 5729: expected 2 fields, saw 3\\nSkipping line 6068: expected 2 fields, saw 3\\nSkipping line 6369: expected 2 fields, saw 3\\nSkipping line 6396: expected 2 fields, saw 3\\nSkipping line 6439: expected 2 fields, saw 3\\nSkipping line 6514: expected 2 fields, saw 3\\nSkipping line 7293: expected 2 fields, saw 5\\nSkipping line 7574: expected 2 fields, saw 8\\nSkipping line 7670: expected 2 fields, saw 3\\nSkipping line 7705: expected 2 fields, saw 3\\nSkipping line 8282: expected 2 fields, saw 66\\nSkipping line 8476: expected 2 fields, saw 111\\n'\n"
     ]
    }
   ],
   "source": [
    "import  pandas as pd\n",
    "\n",
    "train_df = pd.read_csv(r'疫情政务问答助手数据集\\NCPPolicies_train_20200301.csv',sep = '\\t',encoding = 'utf-8')\n",
    "\n",
    "context_df = pd.read_csv(r'疫情政务问答助手数据集\\NCPPolicies_context_20200301.csv',sep = '\\t',error_bad_lines=False,encoding = 'utf-8')"
   ]
  },
  {
   "cell_type": "code",
   "execution_count": 4,
   "metadata": {},
   "outputs": [
    {
     "data": {
      "text/html": [
       "<div>\n",
       "<style scoped>\n",
       "    .dataframe tbody tr th:only-of-type {\n",
       "        vertical-align: middle;\n",
       "    }\n",
       "\n",
       "    .dataframe tbody tr th {\n",
       "        vertical-align: top;\n",
       "    }\n",
       "\n",
       "    .dataframe thead th {\n",
       "        text-align: right;\n",
       "    }\n",
       "</style>\n",
       "<table border=\"1\" class=\"dataframe\">\n",
       "  <thead>\n",
       "    <tr style=\"text-align: right;\">\n",
       "      <th></th>\n",
       "      <th>docid</th>\n",
       "      <th>text</th>\n",
       "      <th>id</th>\n",
       "      <th>question</th>\n",
       "      <th>answer</th>\n",
       "    </tr>\n",
       "  </thead>\n",
       "  <tbody>\n",
       "    <tr>\n",
       "      <th>0</th>\n",
       "      <td>edd1413c78e534afb136f36fdc9c9a00</td>\n",
       "      <td>福建：6部门联合出台暖企措施支持复工稳岗 为解决企业复产的用工困难，经省政府同意，省人社厅、...</td>\n",
       "      <td>fdc51a7baeff3fafbae6736422783528</td>\n",
       "      <td>福建联合出台暖企措施支持复工稳岗的部门都有谁？</td>\n",
       "      <td>省人社厅、省工信厅、省教育厅、省财政厅、省交通运输厅、省卫健委</td>\n",
       "    </tr>\n",
       "    <tr>\n",
       "      <th>1</th>\n",
       "      <td>edd1413c78e534afb136f36fdc9c9a00</td>\n",
       "      <td>福建：6部门联合出台暖企措施支持复工稳岗 为解决企业复产的用工困难，经省政府同意，省人社厅、...</td>\n",
       "      <td>6b7b0c209ac939afa43f030d67433178</td>\n",
       "      <td>福建政府针对引入本地劳动力的、未经有关机构确认的疫情物资生产企业做何补助？</td>\n",
       "      <td>一次性用工服务奖补标准最高提到每人2000元。</td>\n",
       "    </tr>\n",
       "    <tr>\n",
       "      <th>3</th>\n",
       "      <td>8bab952dfa1a367da1b8e7ad864d766b</td>\n",
       "      <td>吉林多措并举保民生  2月18日，省政府新闻办围绕就业和医疗保障等民生问题召开新闻发布会。省...</td>\n",
       "      <td>2c3b39b675493830b4d1f2f4f2a436f9</td>\n",
       "      <td>吉林省各级医疗保障部门为百姓提供哪些便捷服务？</td>\n",
       "      <td>全面实行“非必须、不窗口”经办服务，通过“网上办”“掌上办”“延长时限办”“后期补办”等方式...</td>\n",
       "    </tr>\n",
       "    <tr>\n",
       "      <th>4</th>\n",
       "      <td>8bab952dfa1a367da1b8e7ad864d766b</td>\n",
       "      <td>吉林多措并举保民生  2月18日，省政府新闻办围绕就业和医疗保障等民生问题召开新闻发布会。省...</td>\n",
       "      <td>9a9acefa0f533ca99fd174aa89b7f600</td>\n",
       "      <td>吉林省提前预付医保基金总额达到了多少？</td>\n",
       "      <td>1.22亿元</td>\n",
       "    </tr>\n",
       "    <tr>\n",
       "      <th>8</th>\n",
       "      <td>a84ad5c0fc7d3755926ec5bf2b2d9dae</td>\n",
       "      <td>重庆出台援企稳岗返还政策 2月16日，记者从市人力社保局获悉，为切实减轻中小企业负担，充分发...</td>\n",
       "      <td>a505ce9785333655aae92fabba500f70</td>\n",
       "      <td>重庆援企稳岗返还政策的申请条件是什么？</td>\n",
       "      <td>依法参加社会保险并足额缴纳2019年度社会保险费（截至2019年12月31日无欠费），企业2...</td>\n",
       "    </tr>\n",
       "  </tbody>\n",
       "</table>\n",
       "</div>"
      ],
      "text/plain": [
       "                              docid  \\\n",
       "0  edd1413c78e534afb136f36fdc9c9a00   \n",
       "1  edd1413c78e534afb136f36fdc9c9a00   \n",
       "3  8bab952dfa1a367da1b8e7ad864d766b   \n",
       "4  8bab952dfa1a367da1b8e7ad864d766b   \n",
       "8  a84ad5c0fc7d3755926ec5bf2b2d9dae   \n",
       "\n",
       "                                                text  \\\n",
       "0  福建：6部门联合出台暖企措施支持复工稳岗 为解决企业复产的用工困难，经省政府同意，省人社厅、...   \n",
       "1  福建：6部门联合出台暖企措施支持复工稳岗 为解决企业复产的用工困难，经省政府同意，省人社厅、...   \n",
       "3  吉林多措并举保民生  2月18日，省政府新闻办围绕就业和医疗保障等民生问题召开新闻发布会。省...   \n",
       "4  吉林多措并举保民生  2月18日，省政府新闻办围绕就业和医疗保障等民生问题召开新闻发布会。省...   \n",
       "8  重庆出台援企稳岗返还政策 2月16日，记者从市人力社保局获悉，为切实减轻中小企业负担，充分发...   \n",
       "\n",
       "                                 id                               question  \\\n",
       "0  fdc51a7baeff3fafbae6736422783528                福建联合出台暖企措施支持复工稳岗的部门都有谁？   \n",
       "1  6b7b0c209ac939afa43f030d67433178  福建政府针对引入本地劳动力的、未经有关机构确认的疫情物资生产企业做何补助？   \n",
       "3  2c3b39b675493830b4d1f2f4f2a436f9                吉林省各级医疗保障部门为百姓提供哪些便捷服务？   \n",
       "4  9a9acefa0f533ca99fd174aa89b7f600                    吉林省提前预付医保基金总额达到了多少？   \n",
       "8  a505ce9785333655aae92fabba500f70                    重庆援企稳岗返还政策的申请条件是什么？   \n",
       "\n",
       "                                              answer  \n",
       "0                    省人社厅、省工信厅、省教育厅、省财政厅、省交通运输厅、省卫健委  \n",
       "1                            一次性用工服务奖补标准最高提到每人2000元。  \n",
       "3  全面实行“非必须、不窗口”经办服务，通过“网上办”“掌上办”“延长时限办”“后期补办”等方式...  \n",
       "4                                             1.22亿元  \n",
       "8  依法参加社会保险并足额缴纳2019年度社会保险费（截至2019年12月31日无欠费），企业2...  "
      ]
     },
     "execution_count": 4,
     "metadata": {},
     "output_type": "execute_result"
    }
   ],
   "source": [
    "merge_df = pd.merge(context_df,train_df, how='left', on='docid')\n",
    "merge_df.dropna(inplace = True)\n",
    "merge_df.head()"
   ]
  },
  {
   "cell_type": "code",
   "execution_count": 6,
   "metadata": {},
   "outputs": [],
   "source": [
    "from transformers import AutoTokenizer\n",
    "\n",
    "tokenizer = AutoTokenizer.from_pretrained(r'chinese-bert-wwm-ext')\n",
    "\n",
    "chars = list(set(''.join(list(set(merge_df['text'].tolist())))))\n",
    "\n",
    "\n",
    " \n",
    "\n",
    "add_vocabs = ['’','‘','“','”','—']\n",
    "for i in chars:\n",
    "    if i not in tokenizer.vocab.keys():\n",
    "        add_vocabs.append(i) \n",
    " \n",
    " "
   ]
  },
  {
   "cell_type": "code",
   "execution_count": 7,
   "metadata": {},
   "outputs": [],
   "source": [
    "with open('voc.txt','a+',encoding = 'utf-8') as f:\n",
    "    for i in add_vocabs:\n",
    "        f.write(str(i) +'\\n')"
   ]
  },
  {
   "cell_type": "code",
   "execution_count": 8,
   "metadata": {},
   "outputs": [
    {
     "data": {
      "text/plain": [
       "132"
      ]
     },
     "execution_count": 8,
     "metadata": {},
     "output_type": "execute_result"
    }
   ],
   "source": [
    "with open('voc.txt','r',encoding = 'utf-8') as f:\n",
    "    add_vocabs = [i.strip() for i in f.readlines()]\n",
    "    \n",
    "tokenizer.add_tokens(add_vocabs)"
   ]
  },
  {
   "cell_type": "code",
   "execution_count": 14,
   "metadata": {},
   "outputs": [],
   "source": [
    "def checkAnyStop(token_list, token_stops):\n",
    "    return any([stop in token_list for stop in token_stops])\n",
    "\n",
    "def firstFullStopIdx(token_list, token_stops):\n",
    "    \"\"\"\n",
    "    Returns the index of first full-stop token appearing.  \n",
    "    \"\"\"\n",
    "    idxs = []\n",
    "    for stop in token_stops:\n",
    "        if stop in token_list:\n",
    "            idxs.append(token_list.index(stop))\n",
    "    minIdx = min(idxs) if idxs else None\n",
    "    return minIdx\n",
    "\n",
    "\n",
    "puncts = ['？', '。', '?', '；','...',\"！\",\"!\",'，']\n",
    "puncts_tokens = [tokenizer.tokenize(x)[0] for x in puncts]\n",
    "\n",
    "def splitTokens(tokens, punct_tokens, split_length):\n",
    "    \"\"\"\n",
    "    To avoid splitting a sentence and lose the semantic meaning of it, a paper is splitted \n",
    "    into chunks in such a way that each chunk ends with a full-stop token (['？', '。', '?', '；','...']) \n",
    "    \"\"\"\n",
    "    splitted_tokens = []\n",
    "    while len(tokens) > 0:\n",
    "        if len(tokens) < split_length or not checkAnyStop(tokens, punct_tokens):\n",
    "            splitted_tokens.append(tokens)\n",
    "            break\n",
    "        # to not have too long parapraphs, the nearest fullstop is searched both in the previous \n",
    "        # and the next strings.\n",
    "        prev_stop_idx = firstFullStopIdx(tokens[:split_length][::-1], puncts_tokens)\n",
    "        next_stop_idx = firstFullStopIdx(tokens[split_length:], puncts_tokens)\n",
    "        if pd.isna(next_stop_idx):\n",
    "            splitted_tokens.append(tokens[:split_length - prev_stop_idx])\n",
    "            tokens = tokens[split_length - prev_stop_idx:]\n",
    "        elif pd.isna(prev_stop_idx):\n",
    "            splitted_tokens.append(tokens[:split_length + next_stop_idx + 1])\n",
    "            tokens = tokens[split_length + next_stop_idx + 1:] \n",
    "        elif prev_stop_idx < next_stop_idx:\n",
    "            splitted_tokens.append(tokens[:split_length - prev_stop_idx])\n",
    "            tokens = tokens[split_length - prev_stop_idx:]\n",
    "        else:\n",
    "            splitted_tokens.append(tokens[:split_length + next_stop_idx + 1])\n",
    "            tokens = tokens[split_length + next_stop_idx + 1:] \n",
    "    return splitted_tokens\n",
    "\n",
    "def splitParagraph(text, split_length=512):\n",
    "    tokens = tokenizer.tokenize(text)\n",
    "    splitted_tokens = splitTokens(tokens, puncts_tokens, split_length)\n",
    "    return [\"\".join(tokenizer.convert_tokens_to_string(x)).replace(' ','') for x in splitted_tokens]\n"
   ]
  },
  {
   "cell_type": "code",
   "execution_count": 15,
   "metadata": {},
   "outputs": [
    {
     "name": "stderr",
     "output_type": "stream",
     "text": [
      "pandas bar: 100%|█████████████████████████████████████████████████████████████████| 4997/4997 [00:38<00:00, 131.43it/s]\n"
     ]
    },
    {
     "data": {
      "text/html": [
       "<div>\n",
       "<style scoped>\n",
       "    .dataframe tbody tr th:only-of-type {\n",
       "        vertical-align: middle;\n",
       "    }\n",
       "\n",
       "    .dataframe tbody tr th {\n",
       "        vertical-align: top;\n",
       "    }\n",
       "\n",
       "    .dataframe thead th {\n",
       "        text-align: right;\n",
       "    }\n",
       "</style>\n",
       "<table border=\"1\" class=\"dataframe\">\n",
       "  <thead>\n",
       "    <tr style=\"text-align: right;\">\n",
       "      <th></th>\n",
       "      <th>docid</th>\n",
       "      <th>paragraphs</th>\n",
       "      <th>title</th>\n",
       "      <th>question</th>\n",
       "      <th>answer</th>\n",
       "      <th>body_text_parags</th>\n",
       "    </tr>\n",
       "  </thead>\n",
       "  <tbody>\n",
       "    <tr>\n",
       "      <th>0</th>\n",
       "      <td>edd1413c78e534afb136f36fdc9c9a00</td>\n",
       "      <td>福建：6部门联合出台暖企措施支持复工稳岗 为解决企业复产的用工困难，经省政府同意，省人社厅、...</td>\n",
       "      <td>fdc51a7baeff3fafbae6736422783528</td>\n",
       "      <td>福建联合出台暖企措施支持复工稳岗的部门都有谁？</td>\n",
       "      <td>省人社厅、省工信厅、省教育厅、省财政厅、省交通运输厅、省卫健委</td>\n",
       "      <td>[福建：6部门联合出台暖企措施支持复工稳岗为解决企业复产的用工困难，经省政府同意，省人社厅、...</td>\n",
       "    </tr>\n",
       "    <tr>\n",
       "      <th>1</th>\n",
       "      <td>edd1413c78e534afb136f36fdc9c9a00</td>\n",
       "      <td>福建：6部门联合出台暖企措施支持复工稳岗 为解决企业复产的用工困难，经省政府同意，省人社厅、...</td>\n",
       "      <td>6b7b0c209ac939afa43f030d67433178</td>\n",
       "      <td>福建政府针对引入本地劳动力的、未经有关机构确认的疫情物资生产企业做何补助？</td>\n",
       "      <td>一次性用工服务奖补标准最高提到每人2000元。</td>\n",
       "      <td>[福建：6部门联合出台暖企措施支持复工稳岗为解决企业复产的用工困难，经省政府同意，省人社厅、...</td>\n",
       "    </tr>\n",
       "    <tr>\n",
       "      <th>3</th>\n",
       "      <td>8bab952dfa1a367da1b8e7ad864d766b</td>\n",
       "      <td>吉林多措并举保民生  2月18日，省政府新闻办围绕就业和医疗保障等民生问题召开新闻发布会。省...</td>\n",
       "      <td>2c3b39b675493830b4d1f2f4f2a436f9</td>\n",
       "      <td>吉林省各级医疗保障部门为百姓提供哪些便捷服务？</td>\n",
       "      <td>全面实行“非必须、不窗口”经办服务，通过“网上办”“掌上办”“延长时限办”“后期补办”等方式...</td>\n",
       "      <td>[吉林多措并举保民生2月18日，省政府新闻办围绕就业和医疗保障等民生问题召开新闻发布会。省人...</td>\n",
       "    </tr>\n",
       "    <tr>\n",
       "      <th>4</th>\n",
       "      <td>8bab952dfa1a367da1b8e7ad864d766b</td>\n",
       "      <td>吉林多措并举保民生  2月18日，省政府新闻办围绕就业和医疗保障等民生问题召开新闻发布会。省...</td>\n",
       "      <td>9a9acefa0f533ca99fd174aa89b7f600</td>\n",
       "      <td>吉林省提前预付医保基金总额达到了多少？</td>\n",
       "      <td>1.22亿元</td>\n",
       "      <td>[吉林多措并举保民生2月18日，省政府新闻办围绕就业和医疗保障等民生问题召开新闻发布会。省人...</td>\n",
       "    </tr>\n",
       "    <tr>\n",
       "      <th>8</th>\n",
       "      <td>a84ad5c0fc7d3755926ec5bf2b2d9dae</td>\n",
       "      <td>重庆出台援企稳岗返还政策 2月16日，记者从市人力社保局获悉，为切实减轻中小企业负担，充分发...</td>\n",
       "      <td>a505ce9785333655aae92fabba500f70</td>\n",
       "      <td>重庆援企稳岗返还政策的申请条件是什么？</td>\n",
       "      <td>依法参加社会保险并足额缴纳2019年度社会保险费（截至2019年12月31日无欠费），企业2...</td>\n",
       "      <td>[重庆出台援企稳岗返还政策2月16日，记者从市人力社保局获悉，为切实减轻中小企业负担，充分发...</td>\n",
       "    </tr>\n",
       "  </tbody>\n",
       "</table>\n",
       "</div>"
      ],
      "text/plain": [
       "                              docid  \\\n",
       "0  edd1413c78e534afb136f36fdc9c9a00   \n",
       "1  edd1413c78e534afb136f36fdc9c9a00   \n",
       "3  8bab952dfa1a367da1b8e7ad864d766b   \n",
       "4  8bab952dfa1a367da1b8e7ad864d766b   \n",
       "8  a84ad5c0fc7d3755926ec5bf2b2d9dae   \n",
       "\n",
       "                                          paragraphs  \\\n",
       "0  福建：6部门联合出台暖企措施支持复工稳岗 为解决企业复产的用工困难，经省政府同意，省人社厅、...   \n",
       "1  福建：6部门联合出台暖企措施支持复工稳岗 为解决企业复产的用工困难，经省政府同意，省人社厅、...   \n",
       "3  吉林多措并举保民生  2月18日，省政府新闻办围绕就业和医疗保障等民生问题召开新闻发布会。省...   \n",
       "4  吉林多措并举保民生  2月18日，省政府新闻办围绕就业和医疗保障等民生问题召开新闻发布会。省...   \n",
       "8  重庆出台援企稳岗返还政策 2月16日，记者从市人力社保局获悉，为切实减轻中小企业负担，充分发...   \n",
       "\n",
       "                              title                               question  \\\n",
       "0  fdc51a7baeff3fafbae6736422783528                福建联合出台暖企措施支持复工稳岗的部门都有谁？   \n",
       "1  6b7b0c209ac939afa43f030d67433178  福建政府针对引入本地劳动力的、未经有关机构确认的疫情物资生产企业做何补助？   \n",
       "3  2c3b39b675493830b4d1f2f4f2a436f9                吉林省各级医疗保障部门为百姓提供哪些便捷服务？   \n",
       "4  9a9acefa0f533ca99fd174aa89b7f600                    吉林省提前预付医保基金总额达到了多少？   \n",
       "8  a505ce9785333655aae92fabba500f70                    重庆援企稳岗返还政策的申请条件是什么？   \n",
       "\n",
       "                                              answer  \\\n",
       "0                    省人社厅、省工信厅、省教育厅、省财政厅、省交通运输厅、省卫健委   \n",
       "1                            一次性用工服务奖补标准最高提到每人2000元。   \n",
       "3  全面实行“非必须、不窗口”经办服务，通过“网上办”“掌上办”“延长时限办”“后期补办”等方式...   \n",
       "4                                             1.22亿元   \n",
       "8  依法参加社会保险并足额缴纳2019年度社会保险费（截至2019年12月31日无欠费），企业2...   \n",
       "\n",
       "                                    body_text_parags  \n",
       "0  [福建：6部门联合出台暖企措施支持复工稳岗为解决企业复产的用工困难，经省政府同意，省人社厅、...  \n",
       "1  [福建：6部门联合出台暖企措施支持复工稳岗为解决企业复产的用工困难，经省政府同意，省人社厅、...  \n",
       "3  [吉林多措并举保民生2月18日，省政府新闻办围绕就业和医疗保障等民生问题召开新闻发布会。省人...  \n",
       "4  [吉林多措并举保民生2月18日，省政府新闻办围绕就业和医疗保障等民生问题召开新闻发布会。省人...  \n",
       "8  [重庆出台援企稳岗返还政策2月16日，记者从市人力社保局获悉，为切实减轻中小企业负担，充分发...  "
      ]
     },
     "execution_count": 15,
     "metadata": {},
     "output_type": "execute_result"
    }
   ],
   "source": [
    "tqdm.pandas(desc='pandas bar')\n",
    "\n",
    "merge_df.columns = ['docid','paragraphs','title','question','answer']\n",
    "merge_df['body_text_parags'] = merge_df['paragraphs'].progress_apply(splitParagraph)\n",
    "\n",
    "merge_df.head()\n"
   ]
  },
  {
   "cell_type": "code",
   "execution_count": 16,
   "metadata": {},
   "outputs": [
    {
     "data": {
      "text/plain": [
       "['福建：6部门联合出台暖企措施支持复工稳岗为解决企业复产的用工困难，经省政府同意，省人社厅、省工信厅、省教育厅、省财政厅、省交通运输厅、省卫健委联合下发通知，出台一系列暖企措施支持疫情防控期间复工稳岗。通知明确，切实发挥各级农民工工作领导小组办公室的统筹协调作用,加强劳务用工有效对接，对具备外出务工条件、可成规模输送到我省用工地，并在出行前14天内及在途没有相关症状的，可由用工地和输出地联合开展“点对点、一站式”直达企业的专门运输。省级公共就业服务机构可与主要劳务输出省份签订劳务协作协议、设立劳务协作工作站，对每个工作站给予一次性10万元就业服务经费补助。鼓励优先聘用本地劳务人员。未经省应对新冠肺炎疫情工作有关机构确认的疫情防控急需物资生产企业引进劳动力的，一次性用工服务奖补标准最高提到每人2000元。对上述企业坚持在生产一线工作的职工，给予每人每天100元的生活补助，纳入一次性用工服务奖补范畴。对春节当月至疫情一级响应结束月，采取稳定职工队伍保持连续生产的企业，给予一次性稳就业奖补。加大失业保险稳岗返还力度，将中小微企业稳岗返还政策裁员率标准调整为不高于上年度全国调查失业率的控制目标，对参保职工30人（含）以下的企业，',\n",
       " '裁员率调整为不超过企业参保职工总数的20%。对不裁员或少裁员，符合条件的参保企业，可返还其上年度实际缴纳失业保险费的50%。对受疫情影响面临暂时性生产经营困难且恢复有望、坚持不裁员或少裁员、符合条件的参保企业，按6个月的当地月人均失业保险金和参保职工人数落实失业保险稳岗返还政策。加强职业技能培训，鼓励技工院校学生在符合疫情防控条件下参加实习实训，探索简易岗前技能培训。对企业因生产急需新录用的人员，按每人200元标准一次性给予企业简易岗前技能培训补贴。鼓励实施线上培训，对受疫情影响的企业，在停工期、恢复期组织职工参加各类线上或线下职业培训的，可按规定纳入补贴类培训范围。通知要求，各地要着力提升政策措施的精准度和有效性，提升各类企业享受政策措施的获得感。各类企业要落实落细防控主体责任，严格落实返岗信息登记、班车错峰接送、员工分散用餐、体温监测等具体应对措施，确保复工稳岗和疫情防控两不误。（记者潘园园）']"
      ]
     },
     "execution_count": 16,
     "metadata": {},
     "output_type": "execute_result"
    }
   ],
   "source": [
    "merge_df['body_text_parags'][0]\n"
   ]
  },
  {
   "cell_type": "code",
   "execution_count": 17,
   "metadata": {},
   "outputs": [
    {
     "name": "stderr",
     "output_type": "stream",
     "text": [
      "4997it [00:00, 6333.57it/s]\n"
     ]
    }
   ],
   "source": [
    "json_data = df2squad(df=merge_df, squad_version='v1.1',\n",
    "                     output_dir=r'C:\\Users\\hp\\Desktop\\2021.02.21 BertForQuestionAnsweringWithMultiTask\\疫情政务问答助手数据集', \n",
    "                     filename='Coronavirus2019'\n",
    "                                )\n",
    "\n"
   ]
  },
  {
   "cell_type": "code",
   "execution_count": null,
   "metadata": {},
   "outputs": [],
   "source": []
  }
 ],
 "metadata": {
  "kernelspec": {
   "display_name": "Python 3",
   "language": "python",
   "name": "python3"
  },
  "language_info": {
   "codemirror_mode": {
    "name": "ipython",
    "version": 3
   },
   "file_extension": ".py",
   "mimetype": "text/x-python",
   "name": "python",
   "nbconvert_exporter": "python",
   "pygments_lexer": "ipython3",
   "version": "3.6.5"
  }
 },
 "nbformat": 4,
 "nbformat_minor": 4
}
